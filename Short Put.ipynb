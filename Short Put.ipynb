{
 "cells": [
  {
   "cell_type": "markdown",
   "metadata": {},
   "source": [
    "# Short Put\n",
    "[Projection option](https://www.projectoption.com/selling-put-options/)\n",
    "[Tastytrade Short Put check list](https://www.tastytrade.com/tt/shows/mike-and-his-whiteboard/episodes/trade-checklist-short-put-04-11-2016)\n",
    "[Tastytrade Short Put Adjustments](https://www.tastytrade.com/tt/shows/mike-and-his-whiteboard/episodes/trading-strategy-3-short-put-adjustments-01-28-2016)"
   ]
  },
  {
   "cell_type": "code",
   "execution_count": 1,
   "metadata": {
    "collapsed": false,
    "scrolled": true
   },
   "outputs": [],
   "source": [
    "%load_ext autoreload\n",
    "%autoreload 2\n",
    "\n",
    "import datetime\n",
    "import numpy as np\n",
    "import pandas as pd\n",
    "import matplotlib.pyplot as plt\n",
    "from ib_insync import *\n",
    "import os\n",
    "import sys\n",
    "\n",
    "nb_dir = os.path.split(os.getcwd())[0]\n",
    "if nb_dir not in sys.path:\n",
    "    sys.path.append(nb_dir)\n",
    "\n",
    "from optopus.ib_adapter import IBBrokerAdapter\n",
    "from optopus.optopus import Optopus\n",
    "from optopus.utils import pdo\n",
    "\n",
    "%matplotlib inline\n"
   ]
  },
  {
   "cell_type": "code",
   "execution_count": 2,
   "metadata": {
    "collapsed": false,
    "scrolled": false
   },
   "outputs": [
    {
     "name": "stdout",
     "output_type": "stream",
     "text": [
      "[Initializating managers]\n",
      "[Connecting to IB broker]\n",
      "[Updating portfolio]\n",
      "[Adding underlyings]\n",
      "- Initializing underlyings:\t........................\n",
      "- Retriving current data:\t........................\n",
      "- Retriving historical data:\t........................\n",
      "- Retriving historical IV data:\t........................\n",
      "- Computing fields:\t\t........................\n",
      "[Started]\n",
      "\n"
     ]
    },
    {
     "name": "stderr",
     "output_type": "stream",
     "text": [
      "ERROR:ib_insync.client:Peer closed connection\n"
     ]
    }
   ],
   "source": [
    "util.startLoop()\n",
    "opt = Optopus(IBBrokerAdapter(IB(), host='127.0.0.1', port=7497, client=6))\n",
    "opt.start()"
   ]
  },
  {
   "cell_type": "markdown",
   "metadata": {},
   "source": [
    "## Implied Volatility\n",
    "Check IV, IV Rank and IV Percentile"
   ]
  },
  {
   "cell_type": "code",
   "execution_count": 3,
   "metadata": {
    "collapsed": false,
    "scrolled": true
   },
   "outputs": [],
   "source": [
    "df = pdo(opt.assets(['market_price', 'volume', 'bid', 'ask', 'IV_h', 'IV_rank_h', 'IV_percentile_h', 'volume_h']))"
   ]
  },
  {
   "cell_type": "code",
   "execution_count": 4,
   "metadata": {
    "collapsed": false,
    "scrolled": true
   },
   "outputs": [
    {
     "data": {
      "text/html": [
       "<div>\n",
       "<table border=\"1\" class=\"dataframe\">\n",
       "  <thead>\n",
       "    <tr style=\"text-align: right;\">\n",
       "      <th></th>\n",
       "      <th>code</th>\n",
       "      <th>market_price</th>\n",
       "      <th>volume</th>\n",
       "      <th>bid</th>\n",
       "      <th>ask</th>\n",
       "      <th>IV_h</th>\n",
       "      <th>IV_rank_h</th>\n",
       "      <th>IV_percentile_h</th>\n",
       "      <th>volume_h</th>\n",
       "      <th>spread</th>\n",
       "    </tr>\n",
       "  </thead>\n",
       "  <tbody>\n",
       "    <tr>\n",
       "      <th>0</th>\n",
       "      <td>SPY</td>\n",
       "      <td>287.50</td>\n",
       "      <td>364313</td>\n",
       "      <td>287.49</td>\n",
       "      <td>287.50</td>\n",
       "      <td>0.086326</td>\n",
       "      <td>8.163496</td>\n",
       "      <td>44.841270</td>\n",
       "      <td>332429</td>\n",
       "      <td>0.01</td>\n",
       "    </tr>\n",
       "    <tr>\n",
       "      <th>1</th>\n",
       "      <td>EEM</td>\n",
       "      <td>43.31</td>\n",
       "      <td>522371</td>\n",
       "      <td>43.31</td>\n",
       "      <td>43.32</td>\n",
       "      <td>0.173604</td>\n",
       "      <td>12.237299</td>\n",
       "      <td>73.809524</td>\n",
       "      <td>452007</td>\n",
       "      <td>0.01</td>\n",
       "    </tr>\n",
       "    <tr>\n",
       "      <th>2</th>\n",
       "      <td>IWM</td>\n",
       "      <td>171.58</td>\n",
       "      <td>73764</td>\n",
       "      <td>171.57</td>\n",
       "      <td>171.58</td>\n",
       "      <td>0.111153</td>\n",
       "      <td>5.209734</td>\n",
       "      <td>11.111111</td>\n",
       "      <td>66209</td>\n",
       "      <td>0.01</td>\n",
       "    </tr>\n",
       "    <tr>\n",
       "      <th>3</th>\n",
       "      <td>FXI</td>\n",
       "      <td>42.63</td>\n",
       "      <td>165364</td>\n",
       "      <td>42.62</td>\n",
       "      <td>42.63</td>\n",
       "      <td>0.191018</td>\n",
       "      <td>28.545753</td>\n",
       "      <td>53.571429</td>\n",
       "      <td>146948</td>\n",
       "      <td>0.01</td>\n",
       "    </tr>\n",
       "    <tr>\n",
       "      <th>4</th>\n",
       "      <td>VXX</td>\n",
       "      <td>28.85</td>\n",
       "      <td>259023</td>\n",
       "      <td>28.84</td>\n",
       "      <td>28.85</td>\n",
       "      <td>0.644267</td>\n",
       "      <td>11.865854</td>\n",
       "      <td>57.142857</td>\n",
       "      <td>247694</td>\n",
       "      <td>0.01</td>\n",
       "    </tr>\n",
       "  </tbody>\n",
       "</table>\n",
       "</div>"
      ],
      "text/plain": [
       "  code  market_price  volume     bid     ask      IV_h  IV_rank_h  \\\n",
       "0  SPY        287.50  364313  287.49  287.50  0.086326   8.163496   \n",
       "1  EEM         43.31  522371   43.31   43.32  0.173604  12.237299   \n",
       "2  IWM        171.58   73764  171.57  171.58  0.111153   5.209734   \n",
       "3  FXI         42.63  165364   42.62   42.63  0.191018  28.545753   \n",
       "4  VXX         28.85  259023   28.84   28.85  0.644267  11.865854   \n",
       "\n",
       "   IV_percentile_h  volume_h  spread  \n",
       "0        44.841270    332429    0.01  \n",
       "1        73.809524    452007    0.01  \n",
       "2        11.111111     66209    0.01  \n",
       "3        53.571429    146948    0.01  \n",
       "4        57.142857    247694    0.01  "
      ]
     },
     "execution_count": 4,
     "metadata": {},
     "output_type": "execute_result"
    }
   ],
   "source": [
    "df['spread'] = df['ask'] - df['bid']\n",
    "df"
   ]
  },
  {
   "cell_type": "code",
   "execution_count": 5,
   "metadata": {
    "collapsed": false,
    "scrolled": true
   },
   "outputs": [
    {
     "data": {
      "text/html": [
       "<div>\n",
       "<table border=\"1\" class=\"dataframe\">\n",
       "  <thead>\n",
       "    <tr style=\"text-align: right;\">\n",
       "      <th></th>\n",
       "      <th>code</th>\n",
       "      <th>market_price</th>\n",
       "      <th>volume</th>\n",
       "      <th>bid</th>\n",
       "      <th>ask</th>\n",
       "      <th>IV_h</th>\n",
       "      <th>IV_rank_h</th>\n",
       "      <th>IV_percentile_h</th>\n",
       "      <th>volume_h</th>\n",
       "      <th>spread</th>\n",
       "    </tr>\n",
       "  </thead>\n",
       "  <tbody>\n",
       "    <tr>\n",
       "      <th>1</th>\n",
       "      <td>EEM</td>\n",
       "      <td>43.31</td>\n",
       "      <td>522371</td>\n",
       "      <td>43.31</td>\n",
       "      <td>43.32</td>\n",
       "      <td>0.173604</td>\n",
       "      <td>12.237299</td>\n",
       "      <td>73.809524</td>\n",
       "      <td>452007</td>\n",
       "      <td>0.01</td>\n",
       "    </tr>\n",
       "    <tr>\n",
       "      <th>4</th>\n",
       "      <td>VXX</td>\n",
       "      <td>28.85</td>\n",
       "      <td>259023</td>\n",
       "      <td>28.84</td>\n",
       "      <td>28.85</td>\n",
       "      <td>0.644267</td>\n",
       "      <td>11.865854</td>\n",
       "      <td>57.142857</td>\n",
       "      <td>247694</td>\n",
       "      <td>0.01</td>\n",
       "    </tr>\n",
       "    <tr>\n",
       "      <th>3</th>\n",
       "      <td>FXI</td>\n",
       "      <td>42.63</td>\n",
       "      <td>165364</td>\n",
       "      <td>42.62</td>\n",
       "      <td>42.63</td>\n",
       "      <td>0.191018</td>\n",
       "      <td>28.545753</td>\n",
       "      <td>53.571429</td>\n",
       "      <td>146948</td>\n",
       "      <td>0.01</td>\n",
       "    </tr>\n",
       "    <tr>\n",
       "      <th>0</th>\n",
       "      <td>SPY</td>\n",
       "      <td>287.50</td>\n",
       "      <td>364313</td>\n",
       "      <td>287.49</td>\n",
       "      <td>287.50</td>\n",
       "      <td>0.086326</td>\n",
       "      <td>8.163496</td>\n",
       "      <td>44.841270</td>\n",
       "      <td>332429</td>\n",
       "      <td>0.01</td>\n",
       "    </tr>\n",
       "  </tbody>\n",
       "</table>\n",
       "</div>"
      ],
      "text/plain": [
       "  code  market_price  volume     bid     ask      IV_h  IV_rank_h  \\\n",
       "1  EEM         43.31  522371   43.31   43.32  0.173604  12.237299   \n",
       "4  VXX         28.85  259023   28.84   28.85  0.644267  11.865854   \n",
       "3  FXI         42.63  165364   42.62   42.63  0.191018  28.545753   \n",
       "0  SPY        287.50  364313  287.49  287.50  0.086326   8.163496   \n",
       "\n",
       "   IV_percentile_h  volume_h  spread  \n",
       "1        73.809524    452007    0.01  \n",
       "4        57.142857    247694    0.01  \n",
       "3        53.571429    146948    0.01  \n",
       "0        44.841270    332429    0.01  "
      ]
     },
     "execution_count": 5,
     "metadata": {},
     "output_type": "execute_result"
    }
   ],
   "source": [
    "df_candidates = df[(df['spread'] <= 0.03) & (df['volume_h'] > 1000) & (df['IV_percentile_h'] > 40)]\n",
    "df_candidates = df_candidates.sort_values('IV_percentile_h', ascending=False)\n",
    "df_candidates"
   ]
  },
  {
   "cell_type": "code",
   "execution_count": 6,
   "metadata": {
    "collapsed": false,
    "scrolled": false
   },
   "outputs": [
    {
     "name": "stdout",
     "output_type": "stream",
     "text": [
      "Contracts: 24 Unqualified: 0\n",
      "."
     ]
    }
   ],
   "source": [
    "#df_oc = pdo(opt.option_chain(UStock(df_candidates.iloc[0,0]), ['option_price', 'delta', 'DTE']))\n",
    "df_oc = pdo(opt.option_chain('EEM', ['option_price', 'delta', 'DTE', 'volume']))\n",
    "df_oc = df_oc.sort_values(['expiration', 'right', 'strike'])"
   ]
  },
  {
   "cell_type": "code",
   "execution_count": 7,
   "metadata": {
    "collapsed": false,
    "scrolled": true
   },
   "outputs": [
    {
     "data": {
      "text/html": [
       "<div>\n",
       "<table border=\"1\" class=\"dataframe\">\n",
       "  <thead>\n",
       "    <tr style=\"text-align: right;\">\n",
       "      <th></th>\n",
       "      <th>code</th>\n",
       "      <th>expiration</th>\n",
       "      <th>strike</th>\n",
       "      <th>right</th>\n",
       "      <th>option_price</th>\n",
       "      <th>delta</th>\n",
       "      <th>DTE</th>\n",
       "      <th>volume</th>\n",
       "    </tr>\n",
       "  </thead>\n",
       "  <tbody>\n",
       "  </tbody>\n",
       "</table>\n",
       "</div>"
      ],
      "text/plain": [
       "Empty DataFrame\n",
       "Columns: [code, expiration, strike, right, option_price, delta, DTE, volume]\n",
       "Index: []"
      ]
     },
     "execution_count": 7,
     "metadata": {},
     "output_type": "execute_result"
    }
   ],
   "source": [
    "df_oc = df_oc[(df_oc['right'] == 'P') & (df_oc['delta'] > -0.2) & (df_oc['delta'] < -0.15) & (df_oc['volume'] > 1000)]\n",
    "df_oc"
   ]
  },
  {
   "cell_type": "code",
   "execution_count": 9,
   "metadata": {
    "collapsed": false
   },
   "outputs": [
    {
     "data": {
      "text/plain": [
       "<function matplotlib.pyplot.show>"
      ]
     },
     "execution_count": 9,
     "metadata": {},
     "output_type": "execute_result"
    },
    {
     "data": {
      "image/png": "[encoded data removed]",
      "text/plain": [
       "<Figure size 864x576 with 2 Axes>"
      ]
     },
     "metadata": {},
     "output_type": "display_data"
    },
    {
     "name": "stderr",
     "output_type": "stream",
     "text": [
      "ERROR:ib_insync.client:Peer closed connection\n"
     ]
    }
   ],
   "source": [
    "plt.figure(figsize=(12, 8))\n",
    "\n",
    "data1 = pdo(opt.asset_historic('EEM'))['bar_close']\n",
    "data2 = pdo(opt.asset_historic_IV('EEM'))['bar_close']\n",
    "\n",
    "plt.subplot(2, 1, 1)\n",
    "plt.plot(data1, color = 'blue')\n",
    "plt.title('Underlying price')\n",
    "plt.axhline(44, color='gray', linestyle='dashed')\n",
    "\n",
    "plt.subplot(2, 1, 2)\n",
    "plt.plot(data2, color = 'red')\n",
    "plt.title('Implied volatility')\n",
    "\n",
    "plt.show"
   ]
  }
 ],
 "metadata": {
  "kernelspec": {
   "display_name": "Python 3",
   "language": "python",
   "name": "python3"
  },
  "language_info": {
   "codemirror_mode": {
    "name": "ipython",
    "version": 3
   },
   "file_extension": ".py",
   "mimetype": "text/x-python",
   "name": "python",
   "nbconvert_exporter": "python",
   "pygments_lexer": "ipython3",
   "version": "3.6.3"
  }
 },
 "nbformat": 4,
 "nbformat_minor": 2
}
