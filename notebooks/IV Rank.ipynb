{
 "cells": [
  {
   "cell_type": "code",
   "execution_count": 1,
   "metadata": {
    "collapsed": false
   },
   "outputs": [],
   "source": [
    "import datetime\n",
    "import pandas as pd\n",
    "import matplotlib.pyplot as plt\n",
    "from ib_insync import *\n",
    "import os\n",
    "import sys\n",
    "\n",
    "nb_dir = os.path.split(os.getcwd())[0]\n",
    "if nb_dir not in sys.path:\n",
    "    sys.path.append(nb_dir)\n",
    "\n",
    "from optopus.ib_adapter import IBBrokerAdapter\n",
    "from optopus.optopus import Optopus\n",
    "from optopus.data_manager import DataManager, DataSource\n",
    "from optopus.data_objects import IndexAsset, OptionChainAsset\n",
    "from optopus.utils import pdo\n",
    "\n",
    "%matplotlib inline"
   ]
  },
  {
   "cell_type": "code",
   "execution_count": 2,
   "metadata": {
    "collapsed": false
   },
   "outputs": [],
   "source": [
    "host = '127.0.0.1'\n",
    "#port = 4002  # Gateway\n",
    "port = 7497  # TWS\n",
    "client = 75\n",
    "\n",
    "util.startLoop()\n",
    "ib = IB()\n",
    "ib.connect(host, port, client)\n",
    "opt = Optopus(IBBrokerAdapter(ib))"
   ]
  },
  {
   "cell_type": "code",
   "execution_count": 3,
   "metadata": {
    "collapsed": false
   },
   "outputs": [
    {
     "data": {
      "text/plain": [
       "Index(conId=416904, symbol='SPX', exchange='CBOE', currency='USD', localSymbol='SPX')"
      ]
     },
     "execution_count": 3,
     "metadata": {},
     "output_type": "execute_result"
    }
   ],
   "source": [
    "symbol = 'SPX'\n",
    "contract = Index(symbol)\n",
    "qcontract = ib.qualifyContracts(contract)[0]\n",
    "qcontract"
   ]
  },
  {
   "cell_type": "code",
   "execution_count": 4,
   "metadata": {
    "collapsed": false
   },
   "outputs": [],
   "source": [
    "bars = ib.reqHistoricalData(\n",
    "        qcontract,\n",
    "        endDateTime='',\n",
    "        durationStr='252 D',\n",
    "        barSizeSetting='1 day',\n",
    "        whatToShow='OPTION_IMPLIED_VOLATILITY',\n",
    "        useRTH=True,\n",
    "        formatDate=1)\n",
    "df = util.df(bars)"
   ]
  },
  {
   "cell_type": "code",
   "execution_count": 5,
   "metadata": {
    "collapsed": false
   },
   "outputs": [
    {
     "data": {
      "text/html": [
       "<div>\n",
       "<table border=\"1\" class=\"dataframe\">\n",
       "  <thead>\n",
       "    <tr style=\"text-align: right;\">\n",
       "      <th></th>\n",
       "      <th>date</th>\n",
       "      <th>open</th>\n",
       "      <th>high</th>\n",
       "      <th>low</th>\n",
       "      <th>close</th>\n",
       "      <th>volume</th>\n",
       "      <th>barCount</th>\n",
       "      <th>average</th>\n",
       "    </tr>\n",
       "  </thead>\n",
       "  <tbody>\n",
       "    <tr>\n",
       "      <th>242</th>\n",
       "      <td>2018-08-06</td>\n",
       "      <td>0.082278</td>\n",
       "      <td>0.083262</td>\n",
       "      <td>0.078055</td>\n",
       "      <td>0.079166</td>\n",
       "      <td>1</td>\n",
       "      <td>0</td>\n",
       "      <td>0.083262</td>\n",
       "    </tr>\n",
       "    <tr>\n",
       "      <th>243</th>\n",
       "      <td>2018-08-07</td>\n",
       "      <td>0.078118</td>\n",
       "      <td>0.080420</td>\n",
       "      <td>0.077722</td>\n",
       "      <td>0.078182</td>\n",
       "      <td>1</td>\n",
       "      <td>0</td>\n",
       "      <td>0.080420</td>\n",
       "    </tr>\n",
       "    <tr>\n",
       "      <th>244</th>\n",
       "      <td>2018-08-08</td>\n",
       "      <td>0.080055</td>\n",
       "      <td>0.081420</td>\n",
       "      <td>0.076626</td>\n",
       "      <td>0.077277</td>\n",
       "      <td>1</td>\n",
       "      <td>0</td>\n",
       "      <td>0.081420</td>\n",
       "    </tr>\n",
       "    <tr>\n",
       "      <th>245</th>\n",
       "      <td>2018-08-09</td>\n",
       "      <td>0.078801</td>\n",
       "      <td>0.081801</td>\n",
       "      <td>0.077134</td>\n",
       "      <td>0.081198</td>\n",
       "      <td>1</td>\n",
       "      <td>0</td>\n",
       "      <td>0.081801</td>\n",
       "    </tr>\n",
       "    <tr>\n",
       "      <th>246</th>\n",
       "      <td>2018-08-10</td>\n",
       "      <td>0.089834</td>\n",
       "      <td>0.096374</td>\n",
       "      <td>0.087405</td>\n",
       "      <td>0.090739</td>\n",
       "      <td>1</td>\n",
       "      <td>0</td>\n",
       "      <td>0.096374</td>\n",
       "    </tr>\n",
       "    <tr>\n",
       "      <th>247</th>\n",
       "      <td>2018-08-13</td>\n",
       "      <td>0.096501</td>\n",
       "      <td>0.104835</td>\n",
       "      <td>0.091120</td>\n",
       "      <td>0.101375</td>\n",
       "      <td>1</td>\n",
       "      <td>0</td>\n",
       "      <td>0.104835</td>\n",
       "    </tr>\n",
       "    <tr>\n",
       "      <th>248</th>\n",
       "      <td>2018-08-14</td>\n",
       "      <td>0.095977</td>\n",
       "      <td>0.099390</td>\n",
       "      <td>0.089580</td>\n",
       "      <td>0.091580</td>\n",
       "      <td>1</td>\n",
       "      <td>0</td>\n",
       "      <td>0.099390</td>\n",
       "    </tr>\n",
       "    <tr>\n",
       "      <th>249</th>\n",
       "      <td>2018-08-15</td>\n",
       "      <td>0.104803</td>\n",
       "      <td>0.118614</td>\n",
       "      <td>0.103010</td>\n",
       "      <td>0.105327</td>\n",
       "      <td>1</td>\n",
       "      <td>0</td>\n",
       "      <td>0.118614</td>\n",
       "    </tr>\n",
       "    <tr>\n",
       "      <th>250</th>\n",
       "      <td>2018-08-16</td>\n",
       "      <td>0.095707</td>\n",
       "      <td>0.095707</td>\n",
       "      <td>0.089675</td>\n",
       "      <td>0.093580</td>\n",
       "      <td>1</td>\n",
       "      <td>0</td>\n",
       "      <td>0.095707</td>\n",
       "    </tr>\n",
       "    <tr>\n",
       "      <th>251</th>\n",
       "      <td>2018-08-17</td>\n",
       "      <td>0.094517</td>\n",
       "      <td>0.096422</td>\n",
       "      <td>0.084611</td>\n",
       "      <td>0.086659</td>\n",
       "      <td>1</td>\n",
       "      <td>0</td>\n",
       "      <td>0.096422</td>\n",
       "    </tr>\n",
       "  </tbody>\n",
       "</table>\n",
       "</div>"
      ],
      "text/plain": [
       "           date      open      high       low     close  volume  barCount  \\\n",
       "242  2018-08-06  0.082278  0.083262  0.078055  0.079166       1         0   \n",
       "243  2018-08-07  0.078118  0.080420  0.077722  0.078182       1         0   \n",
       "244  2018-08-08  0.080055  0.081420  0.076626  0.077277       1         0   \n",
       "245  2018-08-09  0.078801  0.081801  0.077134  0.081198       1         0   \n",
       "246  2018-08-10  0.089834  0.096374  0.087405  0.090739       1         0   \n",
       "247  2018-08-13  0.096501  0.104835  0.091120  0.101375       1         0   \n",
       "248  2018-08-14  0.095977  0.099390  0.089580  0.091580       1         0   \n",
       "249  2018-08-15  0.104803  0.118614  0.103010  0.105327       1         0   \n",
       "250  2018-08-16  0.095707  0.095707  0.089675  0.093580       1         0   \n",
       "251  2018-08-17  0.094517  0.096422  0.084611  0.086659       1         0   \n",
       "\n",
       "      average  \n",
       "242  0.083262  \n",
       "243  0.080420  \n",
       "244  0.081420  \n",
       "245  0.081801  \n",
       "246  0.096374  \n",
       "247  0.104835  \n",
       "248  0.099390  \n",
       "249  0.118614  \n",
       "250  0.095707  \n",
       "251  0.096422  "
      ]
     },
     "execution_count": 5,
     "metadata": {},
     "output_type": "execute_result"
    }
   ],
   "source": [
    "df.tail(10)"
   ]
  },
  {
   "cell_type": "code",
   "execution_count": 6,
   "metadata": {
    "collapsed": false
   },
   "outputs": [
    {
     "data": {
      "text/plain": [
       "0.018001690000000001"
      ]
     },
     "execution_count": 6,
     "metadata": {},
     "output_type": "execute_result"
    }
   ],
   "source": [
    "IV_min = df['low'].min()\n",
    "IV_min"
   ]
  },
  {
   "cell_type": "code",
   "execution_count": 7,
   "metadata": {
    "collapsed": false
   },
   "outputs": [
    {
     "data": {
      "text/plain": [
       "0.33704754999999997"
      ]
     },
     "execution_count": 7,
     "metadata": {},
     "output_type": "execute_result"
    }
   ],
   "source": [
    "IV_max = df['high'].max()\n",
    "IV_max"
   ]
  },
  {
   "cell_type": "code",
   "execution_count": 8,
   "metadata": {
    "collapsed": true
   },
   "outputs": [],
   "source": [
    "IV_value = 0.1"
   ]
  },
  {
   "cell_type": "code",
   "execution_count": 9,
   "metadata": {
    "collapsed": false
   },
   "outputs": [
    {
     "data": {
      "text/plain": [
       "25.701104537134572"
      ]
     },
     "execution_count": 9,
     "metadata": {},
     "output_type": "execute_result"
    }
   ],
   "source": [
    "IV_rank = (IV_value - IV_min) / (IV_max - IV_min) * 100\n",
    "IV_rank"
   ]
  },
  {
   "cell_type": "code",
   "execution_count": 10,
   "metadata": {
    "collapsed": true
   },
   "outputs": [],
   "source": [
    "days_bellow_current_IV = df[df['low'] < IV_value].shape[0]"
   ]
  },
  {
   "cell_type": "code",
   "execution_count": 11,
   "metadata": {
    "collapsed": false
   },
   "outputs": [
    {
     "data": {
      "text/plain": [
       "0.6468253968253969"
      ]
     },
     "execution_count": 11,
     "metadata": {},
     "output_type": "execute_result"
    }
   ],
   "source": [
    "IV_percentile = days_bellow_current_IV / 252\n",
    "IV_percentile"
   ]
  },
  {
   "cell_type": "markdown",
   "metadata": {},
   "source": [
    "With Optopus methods"
   ]
  },
  {
   "cell_type": "code",
   "execution_count": 12,
   "metadata": {
    "collapsed": true
   },
   "outputs": [],
   "source": [
    "symbol = 'SPX'\n",
    "u = IndexAsset(symbol, DataSource.IB)"
   ]
  },
  {
   "cell_type": "code",
   "execution_count": 13,
   "metadata": {
    "collapsed": false
   },
   "outputs": [
    {
     "data": {
      "text/html": [
       "<div>\n",
       "<table border=\"1\" class=\"dataframe\">\n",
       "  <thead>\n",
       "    <tr style=\"text-align: right;\">\n",
       "      <th></th>\n",
       "      <th>bar_time</th>\n",
       "      <th>bar_low</th>\n",
       "      <th>bar_high</th>\n",
       "      <th>bar_open</th>\n",
       "      <th>bar_close</th>\n",
       "      <th>bar_average</th>\n",
       "      <th>bar_volumen</th>\n",
       "      <th>bar_count</th>\n",
       "    </tr>\n",
       "    <tr>\n",
       "      <th>code</th>\n",
       "      <th></th>\n",
       "      <th></th>\n",
       "      <th></th>\n",
       "      <th></th>\n",
       "      <th></th>\n",
       "      <th></th>\n",
       "      <th></th>\n",
       "      <th></th>\n",
       "    </tr>\n",
       "  </thead>\n",
       "  <tbody>\n",
       "    <tr>\n",
       "      <th>SPX</th>\n",
       "      <td>2018-08-13</td>\n",
       "      <td>2819.88</td>\n",
       "      <td>2843.40</td>\n",
       "      <td>2835.46</td>\n",
       "      <td>2821.93</td>\n",
       "      <td>0.0</td>\n",
       "      <td>NaN</td>\n",
       "      <td>18794</td>\n",
       "    </tr>\n",
       "    <tr>\n",
       "      <th>SPX</th>\n",
       "      <td>2018-08-14</td>\n",
       "      <td>2826.58</td>\n",
       "      <td>2843.11</td>\n",
       "      <td>2827.88</td>\n",
       "      <td>2839.96</td>\n",
       "      <td>0.0</td>\n",
       "      <td>NaN</td>\n",
       "      <td>18050</td>\n",
       "    </tr>\n",
       "    <tr>\n",
       "      <th>SPX</th>\n",
       "      <td>2018-08-15</td>\n",
       "      <td>2802.49</td>\n",
       "      <td>2827.95</td>\n",
       "      <td>2827.95</td>\n",
       "      <td>2818.37</td>\n",
       "      <td>0.0</td>\n",
       "      <td>NaN</td>\n",
       "      <td>19757</td>\n",
       "    </tr>\n",
       "    <tr>\n",
       "      <th>SPX</th>\n",
       "      <td>2018-08-16</td>\n",
       "      <td>2831.44</td>\n",
       "      <td>2850.49</td>\n",
       "      <td>2831.44</td>\n",
       "      <td>2840.69</td>\n",
       "      <td>0.0</td>\n",
       "      <td>NaN</td>\n",
       "      <td>18214</td>\n",
       "    </tr>\n",
       "    <tr>\n",
       "      <th>SPX</th>\n",
       "      <td>2018-08-17</td>\n",
       "      <td>2833.73</td>\n",
       "      <td>2855.63</td>\n",
       "      <td>2838.32</td>\n",
       "      <td>2850.13</td>\n",
       "      <td>0.0</td>\n",
       "      <td>NaN</td>\n",
       "      <td>18590</td>\n",
       "    </tr>\n",
       "  </tbody>\n",
       "</table>\n",
       "</div>"
      ],
      "text/plain": [
       "        bar_time  bar_low  bar_high  bar_open  bar_close  bar_average  \\\n",
       "code                                                                    \n",
       "SPX   2018-08-13  2819.88   2843.40   2835.46    2821.93          0.0   \n",
       "SPX   2018-08-14  2826.58   2843.11   2827.88    2839.96          0.0   \n",
       "SPX   2018-08-15  2802.49   2827.95   2827.95    2818.37          0.0   \n",
       "SPX   2018-08-16  2831.44   2850.49   2831.44    2840.69          0.0   \n",
       "SPX   2018-08-17  2833.73   2855.63   2838.32    2850.13          0.0   \n",
       "\n",
       "      bar_volumen  bar_count  \n",
       "code                          \n",
       "SPX           NaN      18794  \n",
       "SPX           NaN      18050  \n",
       "SPX           NaN      19757  \n",
       "SPX           NaN      18214  \n",
       "SPX           NaN      18590  "
      ]
     },
     "execution_count": 13,
     "metadata": {},
     "output_type": "execute_result"
    }
   ],
   "source": [
    "pdo(opt.historical([u], ['bar_time' ,'bar_low', 'bar_high', 'bar_open', 'bar_close', 'bar_average', 'bar_volumen', 'bar_count'])).tail()"
   ]
  },
  {
   "cell_type": "code",
   "execution_count": 14,
   "metadata": {
    "collapsed": false
   },
   "outputs": [
    {
     "data": {
      "text/html": [
       "<div>\n",
       "<table border=\"1\" class=\"dataframe\">\n",
       "  <thead>\n",
       "    <tr style=\"text-align: right;\">\n",
       "      <th></th>\n",
       "      <th>bar_time</th>\n",
       "      <th>bar_low</th>\n",
       "      <th>bar_high</th>\n",
       "      <th>bar_open</th>\n",
       "      <th>bar_close</th>\n",
       "      <th>bar_average</th>\n",
       "      <th>bar_volumen</th>\n",
       "      <th>bar_count</th>\n",
       "    </tr>\n",
       "    <tr>\n",
       "      <th>code</th>\n",
       "      <th></th>\n",
       "      <th></th>\n",
       "      <th></th>\n",
       "      <th></th>\n",
       "      <th></th>\n",
       "      <th></th>\n",
       "      <th></th>\n",
       "      <th></th>\n",
       "    </tr>\n",
       "  </thead>\n",
       "  <tbody>\n",
       "    <tr>\n",
       "      <th>SPX</th>\n",
       "      <td>2018-08-13</td>\n",
       "      <td>0.091120</td>\n",
       "      <td>0.104835</td>\n",
       "      <td>0.096501</td>\n",
       "      <td>0.101375</td>\n",
       "      <td>0.104835</td>\n",
       "      <td>NaN</td>\n",
       "      <td>0</td>\n",
       "    </tr>\n",
       "    <tr>\n",
       "      <th>SPX</th>\n",
       "      <td>2018-08-14</td>\n",
       "      <td>0.089580</td>\n",
       "      <td>0.099390</td>\n",
       "      <td>0.095977</td>\n",
       "      <td>0.091580</td>\n",
       "      <td>0.099390</td>\n",
       "      <td>NaN</td>\n",
       "      <td>0</td>\n",
       "    </tr>\n",
       "    <tr>\n",
       "      <th>SPX</th>\n",
       "      <td>2018-08-15</td>\n",
       "      <td>0.103010</td>\n",
       "      <td>0.118614</td>\n",
       "      <td>0.104803</td>\n",
       "      <td>0.105327</td>\n",
       "      <td>0.118614</td>\n",
       "      <td>NaN</td>\n",
       "      <td>0</td>\n",
       "    </tr>\n",
       "    <tr>\n",
       "      <th>SPX</th>\n",
       "      <td>2018-08-16</td>\n",
       "      <td>0.089675</td>\n",
       "      <td>0.095707</td>\n",
       "      <td>0.095707</td>\n",
       "      <td>0.093580</td>\n",
       "      <td>0.095707</td>\n",
       "      <td>NaN</td>\n",
       "      <td>0</td>\n",
       "    </tr>\n",
       "    <tr>\n",
       "      <th>SPX</th>\n",
       "      <td>2018-08-17</td>\n",
       "      <td>0.084611</td>\n",
       "      <td>0.096422</td>\n",
       "      <td>0.094517</td>\n",
       "      <td>0.086659</td>\n",
       "      <td>0.096422</td>\n",
       "      <td>NaN</td>\n",
       "      <td>0</td>\n",
       "    </tr>\n",
       "  </tbody>\n",
       "</table>\n",
       "</div>"
      ],
      "text/plain": [
       "        bar_time   bar_low  bar_high  bar_open  bar_close  bar_average  \\\n",
       "code                                                                     \n",
       "SPX   2018-08-13  0.091120  0.104835  0.096501   0.101375     0.104835   \n",
       "SPX   2018-08-14  0.089580  0.099390  0.095977   0.091580     0.099390   \n",
       "SPX   2018-08-15  0.103010  0.118614  0.104803   0.105327     0.118614   \n",
       "SPX   2018-08-16  0.089675  0.095707  0.095707   0.093580     0.095707   \n",
       "SPX   2018-08-17  0.084611  0.096422  0.094517   0.086659     0.096422   \n",
       "\n",
       "      bar_volumen  bar_count  \n",
       "code                          \n",
       "SPX           NaN          0  \n",
       "SPX           NaN          0  \n",
       "SPX           NaN          0  \n",
       "SPX           NaN          0  \n",
       "SPX           NaN          0  "
      ]
     },
     "execution_count": 14,
     "metadata": {},
     "output_type": "execute_result"
    }
   ],
   "source": [
    "pdo(opt.historical_IV([u], ['bar_time', 'bar_low', 'bar_high', 'bar_open', 'bar_close', 'bar_average', 'bar_volumen', 'bar_count'])).tail()"
   ]
  },
  {
   "cell_type": "code",
   "execution_count": 16,
   "metadata": {
    "collapsed": false
   },
   "outputs": [
    {
     "name": "stdout",
     "output_type": "stream",
     "text": [
      "25.701104537134572\n",
      "64.68253968253968\n"
     ]
    }
   ],
   "source": [
    "print(opt.IV_rank(u, 0.1))\n",
    "print(opt.IV_percentile(u, 0.1))"
   ]
  },
  {
   "cell_type": "code",
   "execution_count": null,
   "metadata": {
    "collapsed": true
   },
   "outputs": [],
   "source": []
  }
 ],
 "metadata": {
  "kernelspec": {
   "display_name": "Python 3",
   "language": "python",
   "name": "python3"
  },
  "language_info": {
   "codemirror_mode": {
    "name": "ipython",
    "version": 3
   },
   "file_extension": ".py",
   "mimetype": "text/x-python",
   "name": "python",
   "nbconvert_exporter": "python",
   "pygments_lexer": "ipython3",
   "version": "3.6.3"
  }
 },
 "nbformat": 4,
 "nbformat_minor": 2
}
