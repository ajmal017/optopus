{
 "cells": [
  {
   "cell_type": "code",
   "execution_count": 1,
   "metadata": {
    "collapsed": false
   },
   "outputs": [],
   "source": [
    "import datetime\n",
    "import pandas as pd\n",
    "import matplotlib.pyplot as plt\n",
    "from ib_insync.ib import IB, util\n",
    "import os\n",
    "import sys\n",
    "\n",
    "nb_dir = os.path.split(os.getcwd())[0]\n",
    "if nb_dir not in sys.path:\n",
    "    sys.path.append(nb_dir)\n",
    "\n",
    "from optopus.ib_adapter import IBBrokerAdapter\n",
    "from optopus.optopus import Optopus\n",
    "from optopus.data_manager import DataManager, DataSource\n",
    "from optopus.data_objects import IndexAsset, OptionChainAsset\n",
    "from optopus.utils import pdo\n",
    "\n",
    "%matplotlib inline"
   ]
  },
  {
   "cell_type": "code",
   "execution_count": 2,
   "metadata": {
    "collapsed": true
   },
   "outputs": [],
   "source": [
    "host = '127.0.0.1'\n",
    "#port = 4002  # Gateway\n",
    "port = 7497  # TWS\n",
    "client = 2\n",
    "\n",
    "util.startLoop()\n",
    "ib = IB()\n",
    "ib.connect(host, port, client)\n",
    "opt = Optopus(IBBrokerAdapter(ib))"
   ]
  },
  {
   "cell_type": "code",
   "execution_count": 3,
   "metadata": {
    "collapsed": true
   },
   "outputs": [],
   "source": [
    "symbol = 'SPX'\n",
    "u = IndexAsset(symbol, DataSource.IB)\n",
    "uf = ['high', 'low', 'close', 'bid', 'bid_size', 'ask', 'ask_size',\n",
    "             'last', 'last_size', 'time', 'midpoint', 'market_price']\n",
    "oc = OptionChainAsset(u, underlying_distance=1.5)\n",
    "ocf = ['high', 'low', 'close',\n",
    "      'bid', 'bid_size', 'ask', 'ask_size', 'last', 'last_size',\n",
    "      'volume', 'delta', 'gamma', 'theta', 'vega', 'implied_volatility', 'underlying_price', 'underlying_dividens', \n",
    "      'moneyness', 'intrinsic_value', 'extrinsic_value', 'option_price', 'time']"
   ]
  },
  {
   "cell_type": "code",
   "execution_count": 4,
   "metadata": {
    "collapsed": false
   },
   "outputs": [
    {
     "name": "stderr",
     "output_type": "stream",
     "text": [
      "ERROR:ib_insync.client:Decode failed\n",
      "Traceback (most recent call last):\n",
      "  File \"/home/ilia/anaconda3/lib/python3.6/site-packages/ib_insync/client.py\", line 252, in _onSocketHasData\n",
      "    self._decode(fields)\n",
      "  File \"/home/ilia/anaconda3/lib/python3.6/site-packages/ib_insync/client.py\", line 323, in _decode\n",
      "    float(price), int(size))\n",
      "ValueError: could not convert string to float: \n",
      "ERROR:ib_insync.client:Decode failed\n",
      "Traceback (most recent call last):\n",
      "  File \"/home/ilia/anaconda3/lib/python3.6/site-packages/ib_insync/client.py\", line 252, in _onSocketHasData\n",
      "    self._decode(fields)\n",
      "  File \"/home/ilia/anaconda3/lib/python3.6/site-packages/ib_insync/client.py\", line 323, in _decode\n",
      "    float(price), int(size))\n",
      "ValueError: could not convert string to float: \n"
     ]
    },
    {
     "name": "stdout",
     "output_type": "stream",
     "text": [
      "Contracts: 68 Unqualified: 0\n"
     ]
    }
   ],
   "source": [
    "udf = pdo(opt.current(u, uf))\n",
    "ocdf = pdo(opt.current(oc, ocf))"
   ]
  },
  {
   "cell_type": "code",
   "execution_count": 5,
   "metadata": {
    "collapsed": false
   },
   "outputs": [
    {
     "data": {
      "text/plain": [
       "code                                         SPX\n",
       "high                                     2836.81\n",
       "low                                      2831.44\n",
       "close                                    2818.37\n",
       "bid                                          NaN\n",
       "bid_size                                     NaN\n",
       "ask                                          NaN\n",
       "ask_size                                     NaN\n",
       "last                                      2836.4\n",
       "last_size                                      0\n",
       "time            2018-08-16 13:33:43.817152+00:00\n",
       "midpoint                                     NaN\n",
       "market_price                              2836.4\n",
       "dtype: object"
      ]
     },
     "execution_count": 5,
     "metadata": {},
     "output_type": "execute_result"
    }
   ],
   "source": [
    "udf"
   ]
  },
  {
   "cell_type": "code",
   "execution_count": 6,
   "metadata": {
    "collapsed": false
   },
   "outputs": [
    {
     "data": {
      "text/plain": [
       "Index(['expiration', 'strike', 'right', 'high', 'low', 'close', 'bid',\n",
       "       'bid_size', 'ask', 'ask_size', 'last', 'last_size', 'volume', 'delta',\n",
       "       'gamma', 'theta', 'vega', 'implied_volatility', 'underlying_price',\n",
       "       'moneyness', 'intrinsic_value', 'extrinsic_value', 'option_price',\n",
       "       'time'],\n",
       "      dtype='object')"
      ]
     },
     "execution_count": 6,
     "metadata": {},
     "output_type": "execute_result"
    }
   ],
   "source": [
    "ocdf.columns"
   ]
  },
  {
   "cell_type": "code",
   "execution_count": 7,
   "metadata": {
    "collapsed": false
   },
   "outputs": [],
   "source": [
    "expiration = ocdf.expiration.unique()[1]\n",
    "underlying_price = ocdf.underlying_price.unique()[0]\n",
    "oedf = ocdf[ocdf['expiration']==expiration]"
   ]
  },
  {
   "cell_type": "code",
   "execution_count": 8,
   "metadata": {
    "collapsed": false,
    "scrolled": true
   },
   "outputs": [
    {
     "data": {
      "text/html": [
       "<div>\n",
       "<table border=\"1\" class=\"dataframe\">\n",
       "  <thead>\n",
       "    <tr style=\"text-align: right;\">\n",
       "      <th></th>\n",
       "      <th>expiration</th>\n",
       "      <th>strike</th>\n",
       "      <th>right</th>\n",
       "      <th>high</th>\n",
       "      <th>low</th>\n",
       "      <th>close</th>\n",
       "      <th>bid</th>\n",
       "      <th>bid_size</th>\n",
       "      <th>ask</th>\n",
       "      <th>ask_size</th>\n",
       "      <th>...</th>\n",
       "      <th>gamma</th>\n",
       "      <th>theta</th>\n",
       "      <th>vega</th>\n",
       "      <th>implied_volatility</th>\n",
       "      <th>underlying_price</th>\n",
       "      <th>moneyness</th>\n",
       "      <th>intrinsic_value</th>\n",
       "      <th>extrinsic_value</th>\n",
       "      <th>option_price</th>\n",
       "      <th>time</th>\n",
       "    </tr>\n",
       "    <tr>\n",
       "      <th>code</th>\n",
       "      <th></th>\n",
       "      <th></th>\n",
       "      <th></th>\n",
       "      <th></th>\n",
       "      <th></th>\n",
       "      <th></th>\n",
       "      <th></th>\n",
       "      <th></th>\n",
       "      <th></th>\n",
       "      <th></th>\n",
       "      <th></th>\n",
       "      <th></th>\n",
       "      <th></th>\n",
       "      <th></th>\n",
       "      <th></th>\n",
       "      <th></th>\n",
       "      <th></th>\n",
       "      <th></th>\n",
       "      <th></th>\n",
       "      <th></th>\n",
       "      <th></th>\n",
       "    </tr>\n",
       "  </thead>\n",
       "  <tbody>\n",
       "    <tr>\n",
       "      <th>SPX</th>\n",
       "      <td>2018-09-20</td>\n",
       "      <td>2795.0</td>\n",
       "      <td>C</td>\n",
       "      <td>NaN</td>\n",
       "      <td>NaN</td>\n",
       "      <td>55.90</td>\n",
       "      <td>63.9</td>\n",
       "      <td>1028</td>\n",
       "      <td>65.3</td>\n",
       "      <td>893</td>\n",
       "      <td>...</td>\n",
       "      <td>0.003615</td>\n",
       "      <td>-0.604113</td>\n",
       "      <td>3.247750</td>\n",
       "      <td>0.112732</td>\n",
       "      <td>2836.74</td>\n",
       "      <td>ITM</td>\n",
       "      <td>41.74</td>\n",
       "      <td>22.020630</td>\n",
       "      <td>63.760630</td>\n",
       "      <td>2018-08-16 13:34:04.224243+00:00</td>\n",
       "    </tr>\n",
       "    <tr>\n",
       "      <th>SPX</th>\n",
       "      <td>2018-09-20</td>\n",
       "      <td>2800.0</td>\n",
       "      <td>C</td>\n",
       "      <td>60.75</td>\n",
       "      <td>59.80</td>\n",
       "      <td>52.30</td>\n",
       "      <td>60.6</td>\n",
       "      <td>45</td>\n",
       "      <td>61.2</td>\n",
       "      <td>263</td>\n",
       "      <td>...</td>\n",
       "      <td>0.003742</td>\n",
       "      <td>-0.601925</td>\n",
       "      <td>3.304932</td>\n",
       "      <td>0.110788</td>\n",
       "      <td>2836.90</td>\n",
       "      <td>ITM</td>\n",
       "      <td>36.90</td>\n",
       "      <td>23.108061</td>\n",
       "      <td>60.008061</td>\n",
       "      <td>2018-08-16 13:34:03.773126+00:00</td>\n",
       "    </tr>\n",
       "    <tr>\n",
       "      <th>SPX</th>\n",
       "      <td>2018-09-20</td>\n",
       "      <td>2805.0</td>\n",
       "      <td>C</td>\n",
       "      <td>56.95</td>\n",
       "      <td>56.95</td>\n",
       "      <td>48.75</td>\n",
       "      <td>56.8</td>\n",
       "      <td>45</td>\n",
       "      <td>57.3</td>\n",
       "      <td>90</td>\n",
       "      <td>...</td>\n",
       "      <td>0.003872</td>\n",
       "      <td>-0.599144</td>\n",
       "      <td>3.360488</td>\n",
       "      <td>0.108885</td>\n",
       "      <td>2836.90</td>\n",
       "      <td>ITM</td>\n",
       "      <td>31.90</td>\n",
       "      <td>24.334196</td>\n",
       "      <td>56.234196</td>\n",
       "      <td>2018-08-16 13:34:03.773126+00:00</td>\n",
       "    </tr>\n",
       "    <tr>\n",
       "      <th>SPX</th>\n",
       "      <td>2018-09-20</td>\n",
       "      <td>2810.0</td>\n",
       "      <td>C</td>\n",
       "      <td>53.20</td>\n",
       "      <td>53.20</td>\n",
       "      <td>45.30</td>\n",
       "      <td>53.0</td>\n",
       "      <td>45</td>\n",
       "      <td>53.6</td>\n",
       "      <td>191</td>\n",
       "      <td>...</td>\n",
       "      <td>0.003999</td>\n",
       "      <td>-0.595453</td>\n",
       "      <td>3.411458</td>\n",
       "      <td>0.107024</td>\n",
       "      <td>2836.90</td>\n",
       "      <td>ITM</td>\n",
       "      <td>26.90</td>\n",
       "      <td>25.652007</td>\n",
       "      <td>52.552007</td>\n",
       "      <td>2018-08-16 13:34:03.773126+00:00</td>\n",
       "    </tr>\n",
       "    <tr>\n",
       "      <th>SPX</th>\n",
       "      <td>2018-09-20</td>\n",
       "      <td>2815.0</td>\n",
       "      <td>C</td>\n",
       "      <td>48.60</td>\n",
       "      <td>48.60</td>\n",
       "      <td>41.95</td>\n",
       "      <td>49.4</td>\n",
       "      <td>45</td>\n",
       "      <td>50.0</td>\n",
       "      <td>255</td>\n",
       "      <td>...</td>\n",
       "      <td>0.004122</td>\n",
       "      <td>-0.590760</td>\n",
       "      <td>3.456833</td>\n",
       "      <td>0.105207</td>\n",
       "      <td>2836.90</td>\n",
       "      <td>ITM</td>\n",
       "      <td>21.90</td>\n",
       "      <td>27.068007</td>\n",
       "      <td>48.968007</td>\n",
       "      <td>2018-08-16 13:34:03.773126+00:00</td>\n",
       "    </tr>\n",
       "    <tr>\n",
       "      <th>SPX</th>\n",
       "      <td>2018-09-20</td>\n",
       "      <td>2820.0</td>\n",
       "      <td>C</td>\n",
       "      <td>46.10</td>\n",
       "      <td>46.00</td>\n",
       "      <td>38.70</td>\n",
       "      <td>45.9</td>\n",
       "      <td>45</td>\n",
       "      <td>46.4</td>\n",
       "      <td>293</td>\n",
       "      <td>...</td>\n",
       "      <td>0.004239</td>\n",
       "      <td>-0.584973</td>\n",
       "      <td>3.495534</td>\n",
       "      <td>0.103439</td>\n",
       "      <td>2836.90</td>\n",
       "      <td>ITM</td>\n",
       "      <td>16.90</td>\n",
       "      <td>28.588845</td>\n",
       "      <td>45.488845</td>\n",
       "      <td>2018-08-16 13:34:03.773126+00:00</td>\n",
       "    </tr>\n",
       "    <tr>\n",
       "      <th>SPX</th>\n",
       "      <td>2018-09-20</td>\n",
       "      <td>2825.0</td>\n",
       "      <td>C</td>\n",
       "      <td>42.55</td>\n",
       "      <td>42.30</td>\n",
       "      <td>35.55</td>\n",
       "      <td>42.4</td>\n",
       "      <td>45</td>\n",
       "      <td>43.0</td>\n",
       "      <td>395</td>\n",
       "      <td>...</td>\n",
       "      <td>0.004349</td>\n",
       "      <td>-0.578003</td>\n",
       "      <td>3.526427</td>\n",
       "      <td>0.101719</td>\n",
       "      <td>2836.90</td>\n",
       "      <td>ITM</td>\n",
       "      <td>11.90</td>\n",
       "      <td>30.221230</td>\n",
       "      <td>42.121230</td>\n",
       "      <td>2018-08-16 13:34:03.773126+00:00</td>\n",
       "    </tr>\n",
       "    <tr>\n",
       "      <th>SPX</th>\n",
       "      <td>2018-09-20</td>\n",
       "      <td>2830.0</td>\n",
       "      <td>C</td>\n",
       "      <td>39.30</td>\n",
       "      <td>39.30</td>\n",
       "      <td>32.50</td>\n",
       "      <td>39.0</td>\n",
       "      <td>75</td>\n",
       "      <td>39.6</td>\n",
       "      <td>390</td>\n",
       "      <td>...</td>\n",
       "      <td>0.004449</td>\n",
       "      <td>-0.569765</td>\n",
       "      <td>3.548344</td>\n",
       "      <td>0.100051</td>\n",
       "      <td>2836.90</td>\n",
       "      <td>ITM</td>\n",
       "      <td>6.90</td>\n",
       "      <td>31.971850</td>\n",
       "      <td>38.871850</td>\n",
       "      <td>2018-08-16 13:34:03.773126+00:00</td>\n",
       "    </tr>\n",
       "    <tr>\n",
       "      <th>SPX</th>\n",
       "      <td>2018-09-20</td>\n",
       "      <td>2835.0</td>\n",
       "      <td>C</td>\n",
       "      <td>NaN</td>\n",
       "      <td>NaN</td>\n",
       "      <td>29.60</td>\n",
       "      <td>35.8</td>\n",
       "      <td>75</td>\n",
       "      <td>36.3</td>\n",
       "      <td>310</td>\n",
       "      <td>...</td>\n",
       "      <td>0.004537</td>\n",
       "      <td>-0.560187</td>\n",
       "      <td>3.560119</td>\n",
       "      <td>0.098437</td>\n",
       "      <td>2836.90</td>\n",
       "      <td>ITM</td>\n",
       "      <td>1.90</td>\n",
       "      <td>33.847267</td>\n",
       "      <td>35.747267</td>\n",
       "      <td>2018-08-16 13:34:03.773126+00:00</td>\n",
       "    </tr>\n",
       "    <tr>\n",
       "      <th>SPX</th>\n",
       "      <td>2018-09-20</td>\n",
       "      <td>2840.0</td>\n",
       "      <td>C</td>\n",
       "      <td>33.00</td>\n",
       "      <td>32.20</td>\n",
       "      <td>26.80</td>\n",
       "      <td>32.7</td>\n",
       "      <td>585</td>\n",
       "      <td>33.2</td>\n",
       "      <td>528</td>\n",
       "      <td>...</td>\n",
       "      <td>0.004611</td>\n",
       "      <td>-0.549041</td>\n",
       "      <td>3.560234</td>\n",
       "      <td>0.096879</td>\n",
       "      <td>2836.74</td>\n",
       "      <td>OTM</td>\n",
       "      <td>0.00</td>\n",
       "      <td>32.675112</td>\n",
       "      <td>32.675112</td>\n",
       "      <td>2018-08-16 13:34:04.389194+00:00</td>\n",
       "    </tr>\n",
       "    <tr>\n",
       "      <th>SPX</th>\n",
       "      <td>2018-09-20</td>\n",
       "      <td>2845.0</td>\n",
       "      <td>C</td>\n",
       "      <td>NaN</td>\n",
       "      <td>NaN</td>\n",
       "      <td>24.15</td>\n",
       "      <td>29.6</td>\n",
       "      <td>789</td>\n",
       "      <td>30.1</td>\n",
       "      <td>150</td>\n",
       "      <td>...</td>\n",
       "      <td>0.004667</td>\n",
       "      <td>-0.536563</td>\n",
       "      <td>3.548000</td>\n",
       "      <td>0.095378</td>\n",
       "      <td>2836.74</td>\n",
       "      <td>OTM</td>\n",
       "      <td>0.00</td>\n",
       "      <td>29.821794</td>\n",
       "      <td>29.821794</td>\n",
       "      <td>2018-08-16 13:34:04.388728+00:00</td>\n",
       "    </tr>\n",
       "    <tr>\n",
       "      <th>SPX</th>\n",
       "      <td>2018-09-20</td>\n",
       "      <td>2850.0</td>\n",
       "      <td>C</td>\n",
       "      <td>27.00</td>\n",
       "      <td>26.70</td>\n",
       "      <td>21.65</td>\n",
       "      <td>26.8</td>\n",
       "      <td>411</td>\n",
       "      <td>27.2</td>\n",
       "      <td>150</td>\n",
       "      <td>...</td>\n",
       "      <td>0.004705</td>\n",
       "      <td>-0.522620</td>\n",
       "      <td>3.522485</td>\n",
       "      <td>0.093938</td>\n",
       "      <td>2836.74</td>\n",
       "      <td>OTM</td>\n",
       "      <td>0.00</td>\n",
       "      <td>27.110769</td>\n",
       "      <td>27.110769</td>\n",
       "      <td>2018-08-16 13:34:04.228903+00:00</td>\n",
       "    </tr>\n",
       "    <tr>\n",
       "      <th>SPX</th>\n",
       "      <td>2018-09-20</td>\n",
       "      <td>2855.0</td>\n",
       "      <td>C</td>\n",
       "      <td>NaN</td>\n",
       "      <td>NaN</td>\n",
       "      <td>19.30</td>\n",
       "      <td>24.1</td>\n",
       "      <td>573</td>\n",
       "      <td>24.5</td>\n",
       "      <td>150</td>\n",
       "      <td>...</td>\n",
       "      <td>0.004721</td>\n",
       "      <td>-0.507217</td>\n",
       "      <td>3.482943</td>\n",
       "      <td>0.092560</td>\n",
       "      <td>2836.74</td>\n",
       "      <td>OTM</td>\n",
       "      <td>0.00</td>\n",
       "      <td>24.546600</td>\n",
       "      <td>24.546600</td>\n",
       "      <td>2018-08-16 13:34:04.228768+00:00</td>\n",
       "    </tr>\n",
       "    <tr>\n",
       "      <th>SPX</th>\n",
       "      <td>2018-09-20</td>\n",
       "      <td>2860.0</td>\n",
       "      <td>C</td>\n",
       "      <td>21.70</td>\n",
       "      <td>20.80</td>\n",
       "      <td>17.10</td>\n",
       "      <td>21.5</td>\n",
       "      <td>699</td>\n",
       "      <td>21.9</td>\n",
       "      <td>268</td>\n",
       "      <td>...</td>\n",
       "      <td>0.004715</td>\n",
       "      <td>-0.490390</td>\n",
       "      <td>3.428858</td>\n",
       "      <td>0.091247</td>\n",
       "      <td>2836.74</td>\n",
       "      <td>OTM</td>\n",
       "      <td>0.00</td>\n",
       "      <td>22.133019</td>\n",
       "      <td>22.133019</td>\n",
       "      <td>2018-08-16 13:34:04.389194+00:00</td>\n",
       "    </tr>\n",
       "    <tr>\n",
       "      <th>SPX</th>\n",
       "      <td>2018-09-20</td>\n",
       "      <td>2865.0</td>\n",
       "      <td>C</td>\n",
       "      <td>NaN</td>\n",
       "      <td>NaN</td>\n",
       "      <td>15.15</td>\n",
       "      <td>19.1</td>\n",
       "      <td>787</td>\n",
       "      <td>19.5</td>\n",
       "      <td>150</td>\n",
       "      <td>...</td>\n",
       "      <td>0.004684</td>\n",
       "      <td>-0.472208</td>\n",
       "      <td>3.359996</td>\n",
       "      <td>0.089999</td>\n",
       "      <td>2836.74</td>\n",
       "      <td>OTM</td>\n",
       "      <td>0.00</td>\n",
       "      <td>19.872783</td>\n",
       "      <td>19.872783</td>\n",
       "      <td>2018-08-16 13:34:04.389349+00:00</td>\n",
       "    </tr>\n",
       "    <tr>\n",
       "      <th>SPX</th>\n",
       "      <td>2018-09-20</td>\n",
       "      <td>2870.0</td>\n",
       "      <td>C</td>\n",
       "      <td>NaN</td>\n",
       "      <td>NaN</td>\n",
       "      <td>13.35</td>\n",
       "      <td>16.9</td>\n",
       "      <td>637</td>\n",
       "      <td>17.3</td>\n",
       "      <td>386</td>\n",
       "      <td>...</td>\n",
       "      <td>0.004628</td>\n",
       "      <td>-0.452774</td>\n",
       "      <td>3.276446</td>\n",
       "      <td>0.088821</td>\n",
       "      <td>2836.74</td>\n",
       "      <td>OTM</td>\n",
       "      <td>0.00</td>\n",
       "      <td>17.767536</td>\n",
       "      <td>17.767536</td>\n",
       "      <td>2018-08-16 13:34:04.389062+00:00</td>\n",
       "    </tr>\n",
       "    <tr>\n",
       "      <th>SPX</th>\n",
       "      <td>2018-09-20</td>\n",
       "      <td>2875.0</td>\n",
       "      <td>C</td>\n",
       "      <td>15.10</td>\n",
       "      <td>15.10</td>\n",
       "      <td>11.70</td>\n",
       "      <td>14.9</td>\n",
       "      <td>690</td>\n",
       "      <td>15.3</td>\n",
       "      <td>661</td>\n",
       "      <td>...</td>\n",
       "      <td>0.004547</td>\n",
       "      <td>-0.432227</td>\n",
       "      <td>3.178653</td>\n",
       "      <td>0.087712</td>\n",
       "      <td>2836.74</td>\n",
       "      <td>OTM</td>\n",
       "      <td>0.00</td>\n",
       "      <td>15.817704</td>\n",
       "      <td>15.817704</td>\n",
       "      <td>2018-08-16 13:34:09.770100+00:00</td>\n",
       "    </tr>\n",
       "  </tbody>\n",
       "</table>\n",
       "<p>17 rows × 24 columns</p>\n",
       "</div>"
      ],
      "text/plain": [
       "      expiration  strike right   high    low  close   bid  bid_size   ask  \\\n",
       "code                                                                        \n",
       "SPX   2018-09-20  2795.0     C    NaN    NaN  55.90  63.9      1028  65.3   \n",
       "SPX   2018-09-20  2800.0     C  60.75  59.80  52.30  60.6        45  61.2   \n",
       "SPX   2018-09-20  2805.0     C  56.95  56.95  48.75  56.8        45  57.3   \n",
       "SPX   2018-09-20  2810.0     C  53.20  53.20  45.30  53.0        45  53.6   \n",
       "SPX   2018-09-20  2815.0     C  48.60  48.60  41.95  49.4        45  50.0   \n",
       "SPX   2018-09-20  2820.0     C  46.10  46.00  38.70  45.9        45  46.4   \n",
       "SPX   2018-09-20  2825.0     C  42.55  42.30  35.55  42.4        45  43.0   \n",
       "SPX   2018-09-20  2830.0     C  39.30  39.30  32.50  39.0        75  39.6   \n",
       "SPX   2018-09-20  2835.0     C    NaN    NaN  29.60  35.8        75  36.3   \n",
       "SPX   2018-09-20  2840.0     C  33.00  32.20  26.80  32.7       585  33.2   \n",
       "SPX   2018-09-20  2845.0     C    NaN    NaN  24.15  29.6       789  30.1   \n",
       "SPX   2018-09-20  2850.0     C  27.00  26.70  21.65  26.8       411  27.2   \n",
       "SPX   2018-09-20  2855.0     C    NaN    NaN  19.30  24.1       573  24.5   \n",
       "SPX   2018-09-20  2860.0     C  21.70  20.80  17.10  21.5       699  21.9   \n",
       "SPX   2018-09-20  2865.0     C    NaN    NaN  15.15  19.1       787  19.5   \n",
       "SPX   2018-09-20  2870.0     C    NaN    NaN  13.35  16.9       637  17.3   \n",
       "SPX   2018-09-20  2875.0     C  15.10  15.10  11.70  14.9       690  15.3   \n",
       "\n",
       "      ask_size               ...                    gamma     theta      vega  \\\n",
       "code                         ...                                                \n",
       "SPX        893               ...                 0.003615 -0.604113  3.247750   \n",
       "SPX        263               ...                 0.003742 -0.601925  3.304932   \n",
       "SPX         90               ...                 0.003872 -0.599144  3.360488   \n",
       "SPX        191               ...                 0.003999 -0.595453  3.411458   \n",
       "SPX        255               ...                 0.004122 -0.590760  3.456833   \n",
       "SPX        293               ...                 0.004239 -0.584973  3.495534   \n",
       "SPX        395               ...                 0.004349 -0.578003  3.526427   \n",
       "SPX        390               ...                 0.004449 -0.569765  3.548344   \n",
       "SPX        310               ...                 0.004537 -0.560187  3.560119   \n",
       "SPX        528               ...                 0.004611 -0.549041  3.560234   \n",
       "SPX        150               ...                 0.004667 -0.536563  3.548000   \n",
       "SPX        150               ...                 0.004705 -0.522620  3.522485   \n",
       "SPX        150               ...                 0.004721 -0.507217  3.482943   \n",
       "SPX        268               ...                 0.004715 -0.490390  3.428858   \n",
       "SPX        150               ...                 0.004684 -0.472208  3.359996   \n",
       "SPX        386               ...                 0.004628 -0.452774  3.276446   \n",
       "SPX        661               ...                 0.004547 -0.432227  3.178653   \n",
       "\n",
       "      implied_volatility  underlying_price  moneyness  intrinsic_value  \\\n",
       "code                                                                     \n",
       "SPX             0.112732           2836.74        ITM            41.74   \n",
       "SPX             0.110788           2836.90        ITM            36.90   \n",
       "SPX             0.108885           2836.90        ITM            31.90   \n",
       "SPX             0.107024           2836.90        ITM            26.90   \n",
       "SPX             0.105207           2836.90        ITM            21.90   \n",
       "SPX             0.103439           2836.90        ITM            16.90   \n",
       "SPX             0.101719           2836.90        ITM            11.90   \n",
       "SPX             0.100051           2836.90        ITM             6.90   \n",
       "SPX             0.098437           2836.90        ITM             1.90   \n",
       "SPX             0.096879           2836.74        OTM             0.00   \n",
       "SPX             0.095378           2836.74        OTM             0.00   \n",
       "SPX             0.093938           2836.74        OTM             0.00   \n",
       "SPX             0.092560           2836.74        OTM             0.00   \n",
       "SPX             0.091247           2836.74        OTM             0.00   \n",
       "SPX             0.089999           2836.74        OTM             0.00   \n",
       "SPX             0.088821           2836.74        OTM             0.00   \n",
       "SPX             0.087712           2836.74        OTM             0.00   \n",
       "\n",
       "      extrinsic_value  option_price                             time  \n",
       "code                                                                  \n",
       "SPX         22.020630     63.760630 2018-08-16 13:34:04.224243+00:00  \n",
       "SPX         23.108061     60.008061 2018-08-16 13:34:03.773126+00:00  \n",
       "SPX         24.334196     56.234196 2018-08-16 13:34:03.773126+00:00  \n",
       "SPX         25.652007     52.552007 2018-08-16 13:34:03.773126+00:00  \n",
       "SPX         27.068007     48.968007 2018-08-16 13:34:03.773126+00:00  \n",
       "SPX         28.588845     45.488845 2018-08-16 13:34:03.773126+00:00  \n",
       "SPX         30.221230     42.121230 2018-08-16 13:34:03.773126+00:00  \n",
       "SPX         31.971850     38.871850 2018-08-16 13:34:03.773126+00:00  \n",
       "SPX         33.847267     35.747267 2018-08-16 13:34:03.773126+00:00  \n",
       "SPX         32.675112     32.675112 2018-08-16 13:34:04.389194+00:00  \n",
       "SPX         29.821794     29.821794 2018-08-16 13:34:04.388728+00:00  \n",
       "SPX         27.110769     27.110769 2018-08-16 13:34:04.228903+00:00  \n",
       "SPX         24.546600     24.546600 2018-08-16 13:34:04.228768+00:00  \n",
       "SPX         22.133019     22.133019 2018-08-16 13:34:04.389194+00:00  \n",
       "SPX         19.872783     19.872783 2018-08-16 13:34:04.389349+00:00  \n",
       "SPX         17.767536     17.767536 2018-08-16 13:34:04.389062+00:00  \n",
       "SPX         15.817704     15.817704 2018-08-16 13:34:09.770100+00:00  \n",
       "\n",
       "[17 rows x 24 columns]"
      ]
     },
     "execution_count": 8,
     "metadata": {},
     "output_type": "execute_result"
    }
   ],
   "source": [
    "df = oedf[oedf['right'] == 'C']\n",
    "df"
   ]
  },
  {
   "cell_type": "code",
   "execution_count": 9,
   "metadata": {
    "collapsed": false
   },
   "outputs": [
    {
     "data": {
      "text/plain": [
       "<matplotlib.lines.Line2D at 0x7f7ae1b32358>"
      ]
     },
     "execution_count": 9,
     "metadata": {},
     "output_type": "execute_result"
    },
    {
     "data": {
      "image/png": "[encoded data removed]",
      "text/plain": [
       "<Figure size 432x288 with 1 Axes>"
      ]
     },
     "metadata": {},
     "output_type": "display_data"
    }
   ],
   "source": [
    "df.plot(kind='line', x='strike', y='option_price', color='gold').axvline(underlying_price, color='k', linestyle='--')"
   ]
  },
  {
   "cell_type": "code",
   "execution_count": 23,
   "metadata": {
    "collapsed": false
   },
   "outputs": [
    {
     "data": {
      "text/plain": [
       "<matplotlib.lines.Line2D at 0x7f7ade9f1978>"
      ]
     },
     "execution_count": 23,
     "metadata": {},
     "output_type": "execute_result"
    },
    {
     "data": {
      "image/png": "[encoded data removed]",
      "text/plain": [
       "<Figure size 432x288 with 1 Axes>"
      ]
     },
     "metadata": {},
     "output_type": "display_data"
    }
   ],
   "source": [
    "df.plot(kind='line', x='strike', y='extrinsic_value', color='gold').axvline(underlying_price, color='k', linestyle='--')"
   ]
  },
  {
   "cell_type": "code",
   "execution_count": 22,
   "metadata": {
    "collapsed": false
   },
   "outputs": [
    {
     "data": {
      "text/plain": [
       "<matplotlib.axes._subplots.AxesSubplot at 0x7f7adeb229b0>"
      ]
     },
     "execution_count": 22,
     "metadata": {},
     "output_type": "execute_result"
    },
    {
     "data": {
      "image/png": "[encoded data removed]",
      "text/plain": [
       "<Figure size 432x288 with 1 Axes>"
      ]
     },
     "metadata": {},
     "output_type": "display_data"
    }
   ],
   "source": [
    "df[['strike', 'intrinsic_value', 'extrinsic_value']].plot(x='strike', kind='bar', stacked=True)"
   ]
  },
  {
   "cell_type": "code",
   "execution_count": 10,
   "metadata": {
    "collapsed": false
   },
   "outputs": [
    {
     "data": {
      "text/plain": [
       "<matplotlib.lines.Line2D at 0x7f7ae1b32a58>"
      ]
     },
     "execution_count": 10,
     "metadata": {},
     "output_type": "execute_result"
    },
    {
     "data": {
      "image/png": "[encoded data removed]",
      "text/plain": [
       "<Figure size 432x288 with 1 Axes>"
      ]
     },
     "metadata": {},
     "output_type": "display_data"
    }
   ],
   "source": [
    "df.plot(kind='line', x='strike', y='implied_volatility', color='gold').axvline(underlying_price, color='k', linestyle='--')"
   ]
  },
  {
   "cell_type": "code",
   "execution_count": 11,
   "metadata": {
    "collapsed": false
   },
   "outputs": [
    {
     "data": {
      "text/plain": [
       "<matplotlib.axes._subplots.AxesSubplot at 0x7f7adf2ff9e8>"
      ]
     },
     "execution_count": 11,
     "metadata": {},
     "output_type": "execute_result"
    },
    {
     "data": {
      "image/png": "[encoded data removed]",
      "text/plain": [
       "<Figure size 432x288 with 1 Axes>"
      ]
     },
     "metadata": {},
     "output_type": "display_data"
    }
   ],
   "source": [
    "df.sort_values('option_price').plot(kind='line', x='option_price', y='implied_volatility', color='gold')"
   ]
  },
  {
   "cell_type": "code",
   "execution_count": 12,
   "metadata": {
    "collapsed": false
   },
   "outputs": [
    {
     "data": {
      "text/plain": [
       "<matplotlib.lines.Line2D at 0x7f7adf2eeeb8>"
      ]
     },
     "execution_count": 12,
     "metadata": {},
     "output_type": "execute_result"
    },
    {
     "data": {
      "image/png": "[encoded data removed]",
      "text/plain": [
       "<Figure size 432x288 with 1 Axes>"
      ]
     },
     "metadata": {},
     "output_type": "display_data"
    }
   ],
   "source": [
    "df.plot(kind='line', x='strike', y='delta', color='gold').axvline(underlying_price, color='k', linestyle='--')"
   ]
  },
  {
   "cell_type": "code",
   "execution_count": 13,
   "metadata": {
    "collapsed": false
   },
   "outputs": [
    {
     "data": {
      "text/plain": [
       "<matplotlib.lines.Line2D at 0x7f7adf2a3518>"
      ]
     },
     "execution_count": 13,
     "metadata": {},
     "output_type": "execute_result"
    },
    {
     "data": {
      "image/png": "[encoded data removed]",
      "text/plain": [
       "<Figure size 432x288 with 1 Axes>"
      ]
     },
     "metadata": {},
     "output_type": "display_data"
    }
   ],
   "source": [
    "df.plot(kind='line', x='strike', y='gamma', color='gold').axvline(underlying_price, color='k', linestyle='--')"
   ]
  },
  {
   "cell_type": "code",
   "execution_count": null,
   "metadata": {
    "collapsed": true
   },
   "outputs": [],
   "source": []
  }
 ],
 "metadata": {
  "kernelspec": {
   "display_name": "Python 3",
   "language": "python",
   "name": "python3"
  },
  "language_info": {
   "codemirror_mode": {
    "name": "ipython",
    "version": 3
   },
   "file_extension": ".py",
   "mimetype": "text/x-python",
   "name": "python",
   "nbconvert_exporter": "python",
   "pygments_lexer": "ipython3",
   "version": "3.6.3"
  }
 },
 "nbformat": 4,
 "nbformat_minor": 2
}
