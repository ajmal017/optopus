{
 "cells": [
  {
   "cell_type": "code",
   "execution_count": 1,
   "metadata": {
    "collapsed": true
   },
   "outputs": [],
   "source": [
    "import datetime\n",
    "import pandas as pd\n",
    "from ib_insync.ib import IB, util\n",
    "import os\n",
    "import sys\n",
    "nb_dir = os.path.split(os.getcwd())[0]\n",
    "if nb_dir not in sys.path:\n",
    "    sys.path.append(nb_dir)"
   ]
  },
  {
   "cell_type": "code",
   "execution_count": 2,
   "metadata": {
    "collapsed": false
   },
   "outputs": [],
   "source": [
    "from optopus.ib_adapter import IBBrokerAdapter\n",
    "from optopus.optopus import Optopus\n",
    "from optopus.data_manager import DataManager, DataSource\n",
    "from optopus.data_objects import IndexAsset, OptionChainAsset\n",
    "from optopus.utils import pdo"
   ]
  },
  {
   "cell_type": "code",
   "execution_count": 3,
   "metadata": {
    "collapsed": false
   },
   "outputs": [],
   "source": [
    "host = '127.0.0.1'\n",
    "#port = 4002  # Gateway\n",
    "port = 7497  # TWS\n",
    "client = 2\n",
    "\n",
    "util.startLoop()\n",
    "ib = IB()\n",
    "ib.connect(host, port, client)\n",
    "\n",
    "ib_adapter = IBBrokerAdapter(ib)\n",
    "\n",
    "opt = Optopus(ib_adapter)\n",
    "dm = opt._data_manager"
   ]
  },
  {
   "cell_type": "code",
   "execution_count": 6,
   "metadata": {
    "collapsed": false
   },
   "outputs": [],
   "source": [
    "SPX = IndexAsset('SPX', DataSource.IB)\n",
    "RUT = IndexAsset('RUT', DataSource.IB)\n",
    "#f = ['high', 'low', 'close', 'bid', 'bid_size', 'ask', 'ask_size',\n",
    "#             'last', 'last_size', 'time', 'midpoint', 'market_price']\n",
    "\n",
    "f = ['market_price']"
   ]
  },
  {
   "cell_type": "code",
   "execution_count": 7,
   "metadata": {
    "collapsed": false
   },
   "outputs": [
    {
     "data": {
      "text/html": [
       "<div>\n",
       "<table border=\"1\" class=\"dataframe\">\n",
       "  <thead>\n",
       "    <tr style=\"text-align: right;\">\n",
       "      <th></th>\n",
       "      <th>market_price</th>\n",
       "    </tr>\n",
       "    <tr>\n",
       "      <th>code</th>\n",
       "      <th></th>\n",
       "    </tr>\n",
       "  </thead>\n",
       "  <tbody>\n",
       "    <tr>\n",
       "      <th>RUT</th>\n",
       "      <td>1674.95</td>\n",
       "    </tr>\n",
       "    <tr>\n",
       "      <th>SPX</th>\n",
       "      <td>2817.49</td>\n",
       "    </tr>\n",
       "  </tbody>\n",
       "</table>\n",
       "</div>"
      ],
      "text/plain": [
       "      market_price\n",
       "code              \n",
       "RUT        1674.95\n",
       "SPX        2817.49"
      ]
     },
     "execution_count": 7,
     "metadata": {},
     "output_type": "execute_result"
    }
   ],
   "source": [
    "pdo(opt.current([SPX, RUT], f))"
   ]
  },
  {
   "cell_type": "code",
   "execution_count": 8,
   "metadata": {
    "collapsed": false
   },
   "outputs": [],
   "source": [
    "SPX_OPT = OptionChainAsset('SPX_OPT', SPX)"
   ]
  },
  {
   "cell_type": "code",
   "execution_count": 9,
   "metadata": {
    "collapsed": true
   },
   "outputs": [],
   "source": [
    "of = ['high', 'low', 'close',\n",
    "      'bid', 'bid_size', 'ask', 'ask_size', 'last', 'last_size',\n",
    "      'volume', 'delta', 'gamma', 'theta', 'vega', 'implied_volatility', 'underlying_price', 'underlying_dividens', \n",
    "      'moneyness', 'intrinsic_value', 'extrinsic_value', 'time']"
   ]
  },
  {
   "cell_type": "code",
   "execution_count": 10,
   "metadata": {
    "collapsed": false
   },
   "outputs": [
    {
     "name": "stdout",
     "output_type": "stream",
     "text": [
      "Unqualified contracts: 0\n",
      "+\n",
      "+\n"
     ]
    }
   ],
   "source": [
    "df = pdo(opt.current([SPX_OPT], of))"
   ]
  },
  {
   "cell_type": "code",
   "execution_count": 11,
   "metadata": {
    "collapsed": false
   },
   "outputs": [
    {
     "data": {
      "text/plain": [
       "high                                              16.1\n",
       "low                                                6.6\n",
       "close                                            27.95\n",
       "bid                                               10.8\n",
       "bid_size                                           151\n",
       "ask                                               11.4\n",
       "ask_size                                           618\n",
       "last                                              11.4\n",
       "last_size                                           10\n",
       "volume                                            2971\n",
       "delta                                          0.50624\n",
       "gamma                                        0.0125456\n",
       "theta                                         -2.98757\n",
       "vega                                          0.867519\n",
       "implied_volatility                            0.146198\n",
       "underlying_price                               2816.75\n",
       "moneyness                                          ITM\n",
       "intrinsic_value                                   1.75\n",
       "extrinsic_value                                11.0933\n",
       "time                  2018-08-15 16:43:45.804236+00:00\n",
       "Name: (SPX, 2018-08-16 00:00:00, 2815.0, C), dtype: object"
      ]
     },
     "execution_count": 11,
     "metadata": {},
     "output_type": "execute_result"
    }
   ],
   "source": [
    "df.loc[('SPX','2018-08-16',2815,'C')]"
   ]
  },
  {
   "cell_type": "code",
   "execution_count": 12,
   "metadata": {
    "collapsed": false
   },
   "outputs": [
    {
     "data": {
      "text/plain": [
       "high                                                22\n",
       "low                                                9.4\n",
       "close                                              3.9\n",
       "bid                                               11.9\n",
       "bid_size                                           475\n",
       "ask                                               12.6\n",
       "ask_size                                           259\n",
       "last                                              12.3\n",
       "last_size                                            1\n",
       "volume                                            1022\n",
       "delta                                        -0.558339\n",
       "gamma                                        0.0129225\n",
       "theta                                         -2.68094\n",
       "vega                                          0.858203\n",
       "implied_volatility                            0.140453\n",
       "underlying_price                               2816.78\n",
       "moneyness                                          ITM\n",
       "intrinsic_value                                   3.22\n",
       "extrinsic_value                                 11.441\n",
       "time                  2018-08-15 16:43:45.416711+00:00\n",
       "Name: (SPX, 2018-08-16 00:00:00, 2820.0, P), dtype: object"
      ]
     },
     "execution_count": 12,
     "metadata": {},
     "output_type": "execute_result"
    }
   ],
   "source": [
    "df.loc[('SPX','2018-08-16',2820,'P')]"
   ]
  },
  {
   "cell_type": "code",
   "execution_count": 21,
   "metadata": {
    "collapsed": false
   },
   "outputs": [],
   "source": [
    "mydf = df.loc[('SPX','2018-08-16', slice(None), 'C'), ['bid', 'bid_size', 'ask', 'ask_size', 'delta', \n",
    "                                                'moneyness', 'underlying_price', 'option_price', 'intrinsic_value',\n",
    "                                               'extrinsic_value', 'implied_volatility']]"
   ]
  },
  {
   "cell_type": "code",
   "execution_count": 22,
   "metadata": {
    "collapsed": false
   },
   "outputs": [
    {
     "data": {
      "text/html": [
       "<div>\n",
       "<table border=\"1\" class=\"dataframe\">\n",
       "  <thead>\n",
       "    <tr style=\"text-align: right;\">\n",
       "      <th></th>\n",
       "      <th></th>\n",
       "      <th></th>\n",
       "      <th></th>\n",
       "      <th>bid</th>\n",
       "      <th>bid_size</th>\n",
       "      <th>ask</th>\n",
       "      <th>ask_size</th>\n",
       "      <th>delta</th>\n",
       "      <th>moneyness</th>\n",
       "      <th>underlying_price</th>\n",
       "      <th>option_price</th>\n",
       "      <th>intrinsic_value</th>\n",
       "      <th>extrinsic_value</th>\n",
       "      <th>implied_volatility</th>\n",
       "    </tr>\n",
       "    <tr>\n",
       "      <th>code</th>\n",
       "      <th>expiration</th>\n",
       "      <th>strike</th>\n",
       "      <th>right</th>\n",
       "      <th></th>\n",
       "      <th></th>\n",
       "      <th></th>\n",
       "      <th></th>\n",
       "      <th></th>\n",
       "      <th></th>\n",
       "      <th></th>\n",
       "      <th></th>\n",
       "      <th></th>\n",
       "      <th></th>\n",
       "      <th></th>\n",
       "    </tr>\n",
       "  </thead>\n",
       "  <tbody>\n",
       "    <tr>\n",
       "      <th rowspan=\"12\" valign=\"top\">SPX</th>\n",
       "      <th rowspan=\"12\" valign=\"top\">2018-08-16</th>\n",
       "      <th>2790.0</th>\n",
       "      <th>C</th>\n",
       "      <td>28.90</td>\n",
       "      <td>775</td>\n",
       "      <td>30.80</td>\n",
       "      <td>834</td>\n",
       "      <td>0.744407</td>\n",
       "      <td>ITM</td>\n",
       "      <td>2816.75</td>\n",
       "      <td>NaN</td>\n",
       "      <td>26.75</td>\n",
       "      <td>4.614949</td>\n",
       "      <td>0.179875</td>\n",
       "    </tr>\n",
       "    <tr>\n",
       "      <th>2795.0</th>\n",
       "      <th>C</th>\n",
       "      <td>24.90</td>\n",
       "      <td>744</td>\n",
       "      <td>26.40</td>\n",
       "      <td>789</td>\n",
       "      <td>0.708778</td>\n",
       "      <td>ITM</td>\n",
       "      <td>2816.75</td>\n",
       "      <td>NaN</td>\n",
       "      <td>21.75</td>\n",
       "      <td>5.477693</td>\n",
       "      <td>0.172606</td>\n",
       "    </tr>\n",
       "    <tr>\n",
       "      <th>2800.0</th>\n",
       "      <th>C</th>\n",
       "      <td>20.90</td>\n",
       "      <td>784</td>\n",
       "      <td>22.40</td>\n",
       "      <td>845</td>\n",
       "      <td>0.667446</td>\n",
       "      <td>ITM</td>\n",
       "      <td>2816.75</td>\n",
       "      <td>NaN</td>\n",
       "      <td>16.75</td>\n",
       "      <td>6.518588</td>\n",
       "      <td>0.165581</td>\n",
       "    </tr>\n",
       "    <tr>\n",
       "      <th>2805.0</th>\n",
       "      <th>C</th>\n",
       "      <td>17.10</td>\n",
       "      <td>840</td>\n",
       "      <td>18.50</td>\n",
       "      <td>903</td>\n",
       "      <td>0.619959</td>\n",
       "      <td>ITM</td>\n",
       "      <td>2816.75</td>\n",
       "      <td>NaN</td>\n",
       "      <td>11.75</td>\n",
       "      <td>7.773429</td>\n",
       "      <td>0.158816</td>\n",
       "    </tr>\n",
       "    <tr>\n",
       "      <th>2810.0</th>\n",
       "      <th>C</th>\n",
       "      <td>14.00</td>\n",
       "      <td>25</td>\n",
       "      <td>14.50</td>\n",
       "      <td>185</td>\n",
       "      <td>0.566128</td>\n",
       "      <td>ITM</td>\n",
       "      <td>2816.75</td>\n",
       "      <td>NaN</td>\n",
       "      <td>6.75</td>\n",
       "      <td>9.283360</td>\n",
       "      <td>0.152340</td>\n",
       "    </tr>\n",
       "    <tr>\n",
       "      <th>2815.0</th>\n",
       "      <th>C</th>\n",
       "      <td>10.80</td>\n",
       "      <td>151</td>\n",
       "      <td>11.40</td>\n",
       "      <td>618</td>\n",
       "      <td>0.506240</td>\n",
       "      <td>ITM</td>\n",
       "      <td>2816.75</td>\n",
       "      <td>NaN</td>\n",
       "      <td>1.75</td>\n",
       "      <td>11.093306</td>\n",
       "      <td>0.146198</td>\n",
       "    </tr>\n",
       "    <tr>\n",
       "      <th>2820.0</th>\n",
       "      <th>C</th>\n",
       "      <td>8.10</td>\n",
       "      <td>341</td>\n",
       "      <td>8.60</td>\n",
       "      <td>734</td>\n",
       "      <td>0.441661</td>\n",
       "      <td>OTM</td>\n",
       "      <td>2816.78</td>\n",
       "      <td>NaN</td>\n",
       "      <td>0.00</td>\n",
       "      <td>10.009250</td>\n",
       "      <td>0.140453</td>\n",
       "    </tr>\n",
       "    <tr>\n",
       "      <th>2825.0</th>\n",
       "      <th>C</th>\n",
       "      <td>5.80</td>\n",
       "      <td>288</td>\n",
       "      <td>6.10</td>\n",
       "      <td>25</td>\n",
       "      <td>0.373518</td>\n",
       "      <td>OTM</td>\n",
       "      <td>2816.78</td>\n",
       "      <td>NaN</td>\n",
       "      <td>0.00</td>\n",
       "      <td>7.546591</td>\n",
       "      <td>0.135179</td>\n",
       "    </tr>\n",
       "    <tr>\n",
       "      <th>2830.0</th>\n",
       "      <th>C</th>\n",
       "      <td>3.90</td>\n",
       "      <td>1094</td>\n",
       "      <td>4.20</td>\n",
       "      <td>501</td>\n",
       "      <td>0.305014</td>\n",
       "      <td>OTM</td>\n",
       "      <td>2816.78</td>\n",
       "      <td>NaN</td>\n",
       "      <td>0.00</td>\n",
       "      <td>5.494922</td>\n",
       "      <td>0.130467</td>\n",
       "    </tr>\n",
       "    <tr>\n",
       "      <th>2835.0</th>\n",
       "      <th>C</th>\n",
       "      <td>2.45</td>\n",
       "      <td>1215</td>\n",
       "      <td>2.70</td>\n",
       "      <td>738</td>\n",
       "      <td>0.239651</td>\n",
       "      <td>OTM</td>\n",
       "      <td>2816.78</td>\n",
       "      <td>NaN</td>\n",
       "      <td>0.00</td>\n",
       "      <td>3.859987</td>\n",
       "      <td>0.126423</td>\n",
       "    </tr>\n",
       "    <tr>\n",
       "      <th>2840.0</th>\n",
       "      <th>C</th>\n",
       "      <td>1.45</td>\n",
       "      <td>971</td>\n",
       "      <td>1.65</td>\n",
       "      <td>675</td>\n",
       "      <td>0.180732</td>\n",
       "      <td>OTM</td>\n",
       "      <td>2816.75</td>\n",
       "      <td>NaN</td>\n",
       "      <td>0.00</td>\n",
       "      <td>2.617095</td>\n",
       "      <td>0.123164</td>\n",
       "    </tr>\n",
       "    <tr>\n",
       "      <th>2845.0</th>\n",
       "      <th>C</th>\n",
       "      <td>0.80</td>\n",
       "      <td>1223</td>\n",
       "      <td>1.00</td>\n",
       "      <td>1049</td>\n",
       "      <td>0.131801</td>\n",
       "      <td>OTM</td>\n",
       "      <td>2816.78</td>\n",
       "      <td>NaN</td>\n",
       "      <td>0.00</td>\n",
       "      <td>1.732825</td>\n",
       "      <td>0.120824</td>\n",
       "    </tr>\n",
       "  </tbody>\n",
       "</table>\n",
       "</div>"
      ],
      "text/plain": [
       "                                bid  bid_size    ask  ask_size     delta  \\\n",
       "code expiration strike right                                               \n",
       "SPX  2018-08-16 2790.0 C      28.90       775  30.80       834  0.744407   \n",
       "                2795.0 C      24.90       744  26.40       789  0.708778   \n",
       "                2800.0 C      20.90       784  22.40       845  0.667446   \n",
       "                2805.0 C      17.10       840  18.50       903  0.619959   \n",
       "                2810.0 C      14.00        25  14.50       185  0.566128   \n",
       "                2815.0 C      10.80       151  11.40       618  0.506240   \n",
       "                2820.0 C       8.10       341   8.60       734  0.441661   \n",
       "                2825.0 C       5.80       288   6.10        25  0.373518   \n",
       "                2830.0 C       3.90      1094   4.20       501  0.305014   \n",
       "                2835.0 C       2.45      1215   2.70       738  0.239651   \n",
       "                2840.0 C       1.45       971   1.65       675  0.180732   \n",
       "                2845.0 C       0.80      1223   1.00      1049  0.131801   \n",
       "\n",
       "                             moneyness  underlying_price  option_price  \\\n",
       "code expiration strike right                                             \n",
       "SPX  2018-08-16 2790.0 C           ITM           2816.75           NaN   \n",
       "                2795.0 C           ITM           2816.75           NaN   \n",
       "                2800.0 C           ITM           2816.75           NaN   \n",
       "                2805.0 C           ITM           2816.75           NaN   \n",
       "                2810.0 C           ITM           2816.75           NaN   \n",
       "                2815.0 C           ITM           2816.75           NaN   \n",
       "                2820.0 C           OTM           2816.78           NaN   \n",
       "                2825.0 C           OTM           2816.78           NaN   \n",
       "                2830.0 C           OTM           2816.78           NaN   \n",
       "                2835.0 C           OTM           2816.78           NaN   \n",
       "                2840.0 C           OTM           2816.75           NaN   \n",
       "                2845.0 C           OTM           2816.78           NaN   \n",
       "\n",
       "                              intrinsic_value  extrinsic_value  \\\n",
       "code expiration strike right                                     \n",
       "SPX  2018-08-16 2790.0 C                26.75         4.614949   \n",
       "                2795.0 C                21.75         5.477693   \n",
       "                2800.0 C                16.75         6.518588   \n",
       "                2805.0 C                11.75         7.773429   \n",
       "                2810.0 C                 6.75         9.283360   \n",
       "                2815.0 C                 1.75        11.093306   \n",
       "                2820.0 C                 0.00        10.009250   \n",
       "                2825.0 C                 0.00         7.546591   \n",
       "                2830.0 C                 0.00         5.494922   \n",
       "                2835.0 C                 0.00         3.859987   \n",
       "                2840.0 C                 0.00         2.617095   \n",
       "                2845.0 C                 0.00         1.732825   \n",
       "\n",
       "                              implied_volatility  \n",
       "code expiration strike right                      \n",
       "SPX  2018-08-16 2790.0 C                0.179875  \n",
       "                2795.0 C                0.172606  \n",
       "                2800.0 C                0.165581  \n",
       "                2805.0 C                0.158816  \n",
       "                2810.0 C                0.152340  \n",
       "                2815.0 C                0.146198  \n",
       "                2820.0 C                0.140453  \n",
       "                2825.0 C                0.135179  \n",
       "                2830.0 C                0.130467  \n",
       "                2835.0 C                0.126423  \n",
       "                2840.0 C                0.123164  \n",
       "                2845.0 C                0.120824  "
      ]
     },
     "execution_count": 22,
     "metadata": {},
     "output_type": "execute_result"
    }
   ],
   "source": [
    "mydf"
   ]
  },
  {
   "cell_type": "code",
   "execution_count": 24,
   "metadata": {
    "collapsed": false
   },
   "outputs": [
    {
     "data": {
      "text/plain": [
       "<matplotlib.axes._subplots.AxesSubplot at 0x7fd16f96f400>"
      ]
     },
     "execution_count": 24,
     "metadata": {},
     "output_type": "execute_result"
    }
   ],
   "source": [
    "mydf.plot(x='implied_volatility')"
   ]
  },
  {
   "cell_type": "code",
   "execution_count": null,
   "metadata": {
    "collapsed": true
   },
   "outputs": [],
   "source": []
  }
 ],
 "metadata": {
  "kernelspec": {
   "display_name": "Python 3",
   "language": "python",
   "name": "python3"
  },
  "language_info": {
   "codemirror_mode": {
    "name": "ipython",
    "version": 3
   },
   "file_extension": ".py",
   "mimetype": "text/x-python",
   "name": "python",
   "nbconvert_exporter": "python",
   "pygments_lexer": "ipython3",
   "version": "3.6.3"
  }
 },
 "nbformat": 4,
 "nbformat_minor": 2
}
