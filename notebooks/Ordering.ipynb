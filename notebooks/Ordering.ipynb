{
 "cells": [
  {
   "cell_type": "code",
   "execution_count": 1,
   "metadata": {
    "collapsed": false
   },
   "outputs": [],
   "source": [
    "%load_ext autoreload\n",
    "%autoreload 2\n",
    "\n",
    "import datetime\n",
    "import pandas as pd\n",
    "import matplotlib.pyplot as plt\n",
    "from ib_insync import *\n",
    "import os\n",
    "import sys\n",
    "\n",
    "nb_dir = os.path.split(os.getcwd())[0]\n",
    "if nb_dir not in sys.path:\n",
    "    sys.path.append(nb_dir)\n",
    "\n",
    "from optopus.ib_adapter import IBBrokerAdapter\n",
    "from optopus.optopus import Optopus\n",
    "from optopus.data_manager import DataManager, DataSource\n",
    "from optopus.data_objects import IndexAsset, StockAsset, OptionChainAsset\n",
    "from optopus.utils import pdo, plot_option_positions\n",
    "\n",
    "%matplotlib inline"
   ]
  },
  {
   "cell_type": "code",
   "execution_count": 2,
   "metadata": {
    "collapsed": true
   },
   "outputs": [],
   "source": [
    "host = '127.0.0.1'\n",
    "#port = 4002  # Gateway\n",
    "port = 7497  # TWS\n",
    "client = 6\n",
    "\n",
    "util.startLoop()\n",
    "ib = IB()\n",
    "\n",
    "opt = Optopus(IBBrokerAdapter(ib, host, port, client))\n",
    "opt.start()"
   ]
  },
  {
   "cell_type": "code",
   "execution_count": 3,
   "metadata": {
    "collapsed": false
   },
   "outputs": [],
   "source": [
    "contract = Option(symbol='SPY', strike=288, currency='USD', exchange='SMART', right='C', lastTradeDateOrContractMonth='20180921')"
   ]
  },
  {
   "cell_type": "code",
   "execution_count": 4,
   "metadata": {
    "collapsed": false,
    "scrolled": true
   },
   "outputs": [
    {
     "data": {
      "text/plain": [
       "Option(conId=301719438, symbol='SPY', lastTradeDateOrContractMonth='20180921', strike=288.0, right='C', multiplier='100', exchange='SMART', currency='USD', localSymbol='SPY   180921C00288000', tradingClass='SPY')"
      ]
     },
     "execution_count": 4,
     "metadata": {},
     "output_type": "execute_result"
    }
   ],
   "source": [
    "contract = ib.qualifyContracts(contract)[0]\n",
    "contract"
   ]
  },
  {
   "cell_type": "code",
   "execution_count": 5,
   "metadata": {
    "collapsed": true
   },
   "outputs": [],
   "source": [
    "order = MarketOrder('BUY', 1)"
   ]
  },
  {
   "cell_type": "code",
   "execution_count": 6,
   "metadata": {
    "collapsed": false
   },
   "outputs": [
    {
     "data": {
      "text/plain": [
       "OrderState(status='PreSubmitted', initMarginBefore='13045.16', maintMarginBefore='13045.16', equityWithLoanBefore='353262.01', initMarginChange='0.0', maintMarginChange='0.0', equityWithLoanChange='-202.0900000000256', initMarginAfter='13045.16', maintMarginAfter='13045.16', equityWithLoanAfter='353059.92', minCommission=0.6643, maxCommission=1.5843, commissionCurrency='USD')"
      ]
     },
     "execution_count": 6,
     "metadata": {},
     "output_type": "execute_result"
    }
   ],
   "source": [
    "ib.whatIfOrder(contract, order)"
   ]
  },
  {
   "cell_type": "code",
   "execution_count": 7,
   "metadata": {
    "collapsed": false
   },
   "outputs": [
    {
     "name": "stdout",
     "output_type": "stream",
     "text": [
      "EXECUTION from data manager\n"
     ]
    }
   ],
   "source": [
    "trade = ib.placeOrder(contract, order)\n",
    "while not trade.isDone():\n",
    "    ib.waitOnUpdate()"
   ]
  },
  {
   "cell_type": "code",
   "execution_count": 8,
   "metadata": {
    "collapsed": false
   },
   "outputs": [
    {
     "data": {
      "text/plain": [
       "Trade(contract=Option(conId=301719438, symbol='SPY', lastTradeDateOrContractMonth='20180921', strike=288.0, right='C', multiplier='100', exchange='SMART', currency='USD', localSymbol='SPY   180921C00288000', tradingClass='SPY'), order=MarketOrder(softDollarTier=SoftDollarTier(), orderId=28, clientId=6, permId=1128982836, action='BUY', totalQuantity=1.0, lmtPrice=2.03, auxPrice=0.0, tif='DAY', ocaType=3, trailStopPrice=3.03, volatilityType=0, deltaNeutralOrderType='None', deltaNeutralOpenClose='?', referencePriceType=0, account='DU1129763', clearingIntent='IB', adjustedOrderType='None', dontUseAutoPriceForHedge=True), orderStatus=OrderStatus(status='Filled', filled=1.0, avgFillPrice=2.03, permId=1128982836, lastFillPrice=2.03, clientId=6), fills=[Fill(contract=Option(conId=301719438, symbol='SPY', lastTradeDateOrContractMonth='20180921', strike=288.0, right='C', multiplier='100', exchange='SMART', currency='USD', localSymbol='SPY   180921C00288000', tradingClass='SPY'), execution=Execution(execId='0001f4e4.5b7a6cb9.01.01', time=datetime.datetime(2018, 8, 20, 18, 6, 8, tzinfo=datetime.timezone.utc), acctNumber='DU1129763', exchange='ISE', side='BOT', shares=1.0, price=2.03, permId=1128982836, clientId=6, orderId=28, cumQty=1.0, avgPrice=2.03, lastLiquidity=2), commissionReport=CommissionReport(execId='0001f4e4.5b7a6cb9.01.01', commission=1.4843, currency='USD'), time=datetime.datetime(2018, 8, 20, 18, 6, 8, 951635, tzinfo=datetime.timezone.utc))], log=[TradeLogEntry(time=datetime.datetime(2018, 8, 20, 18, 6, 7, 501169, tzinfo=datetime.timezone.utc), status='PendingSubmit', message=''), TradeLogEntry(time=datetime.datetime(2018, 8, 20, 18, 6, 7, 977884, tzinfo=datetime.timezone.utc), status='Submitted', message=''), TradeLogEntry(time=datetime.datetime(2018, 8, 20, 18, 6, 8, 951635, tzinfo=datetime.timezone.utc), status='Submitted', message='Fill 1.0@2.03'), TradeLogEntry(time=datetime.datetime(2018, 8, 20, 18, 6, 8, 954488, tzinfo=datetime.timezone.utc), status='Filled', message='')])"
      ]
     },
     "execution_count": 8,
     "metadata": {},
     "output_type": "execute_result"
    }
   ],
   "source": [
    "trade"
   ]
  },
  {
   "cell_type": "code",
   "execution_count": 9,
   "metadata": {
    "collapsed": false
   },
   "outputs": [
    {
     "data": {
      "text/plain": [
       "[Position(account='DU1129763', contract=Contract(secType='OPT', conId=301719435, symbol='SPY', lastTradeDateOrContractMonth='20180921', strike=287.0, right='C', multiplier='100', currency='USD', localSymbol='SPY   180921C00287000', tradingClass='SPY'), position=1.0, avgCost=254.9843),\n",
       " Position(account='DU1129763', contract=Contract(secType='OPT', conId=258464422, symbol='SPY', lastTradeDateOrContractMonth='20180921', strike=285.0, right='C', multiplier='100', currency='USD', localSymbol='SPY   180921C00285000', tradingClass='SPY'), position=1.0, avgCost=377.4843),\n",
       " Position(account='DU1129763', contract=Contract(secType='OPT', conId=301719428, symbol='SPY', lastTradeDateOrContractMonth='20180921', strike=286.0, right='C', multiplier='100', currency='USD', localSymbol='SPY   180921C00286000', tradingClass='SPY'), position=1.0, avgCost=315.4843),\n",
       " Position(account='DU1129763', contract=Contract(secType='OPT', conId=249238131, symbol='SPY', lastTradeDateOrContractMonth='20180921', strike=270.0, right='P', multiplier='100', currency='USD', localSymbol='SPY   180921P00270000', tradingClass='SPY'), position=-2.0, avgCost=98.4224),\n",
       " Position(account='DU1129763', contract=Contract(secType='OPT', conId=282920901, symbol='SPY', lastTradeDateOrContractMonth='20180921', strike=274.0, right='P', multiplier='100', currency='USD', localSymbol='SPY   180921P00274000', tradingClass='SPY'), position=-1.0, avgCost=132.472),\n",
       " Position(account='DU1129763', contract=Contract(secType='OPT', conId=301719438, symbol='SPY', lastTradeDateOrContractMonth='20180921', strike=288.0, right='C', multiplier='100', currency='USD', localSymbol='SPY   180921C00288000', tradingClass='SPY'), position=1.0, avgCost=202.99999999999997)]"
      ]
     },
     "execution_count": 9,
     "metadata": {},
     "output_type": "execute_result"
    }
   ],
   "source": [
    "ib.positions()"
   ]
  },
  {
   "cell_type": "code",
   "execution_count": 10,
   "metadata": {
    "collapsed": false
   },
   "outputs": [
    {
     "data": {
      "text/plain": [
       "[Fill(contract=Contract(secType='OPT', conId=258464422, symbol='SPY', lastTradeDateOrContractMonth='20180921', strike=285.0, right='C', multiplier='100', exchange='ISE', currency='USD', localSymbol='SPY   180921C00285000', tradingClass='SPY'), execution=Execution(execId='0001f4e4.5b7a60e5.01.01', time=datetime.datetime(2018, 8, 20, 16, 32, 43, tzinfo=datetime.timezone.utc), acctNumber='DU1129763', exchange='ISE', side='BOT', shares=1.0, price=3.76, permId=1128982817, clientId=6, orderId=13, cumQty=1.0, avgPrice=3.76, lastLiquidity=2), commissionReport=CommissionReport(execId='0001f4e4.5b7a60e5.01.01', commission=1.4843, currency='USD'), time=datetime.datetime(2018, 8, 20, 16, 32, 43, tzinfo=datetime.timezone.utc)),\n",
       " Fill(contract=Contract(secType='OPT', conId=301719435, symbol='SPY', lastTradeDateOrContractMonth='20180921', strike=287.0, right='C', multiplier='100', exchange='NASDAQBX', currency='USD', localSymbol='SPY   180921C00287000', tradingClass='SPY'), execution=Execution(execId='0001f4e4.5b7a6ae4.01.01', time=datetime.datetime(2018, 8, 20, 17, 54, 57, tzinfo=datetime.timezone.utc), acctNumber='DU1129763', exchange='NASDAQBX', side='BOT', shares=1.0, price=2.54, permId=1128982825, clientId=6, orderId=18, cumQty=1.0, avgPrice=2.54, lastLiquidity=2), commissionReport=CommissionReport(execId='0001f4e4.5b7a6ae4.01.01', commission=0.9843, currency='USD'), time=datetime.datetime(2018, 8, 20, 17, 54, 57, tzinfo=datetime.timezone.utc)),\n",
       " Fill(contract=Contract(secType='OPT', conId=301719428, symbol='SPY', lastTradeDateOrContractMonth='20180921', strike=286.0, right='C', multiplier='100', exchange='ISE', currency='USD', localSymbol='SPY   180921C00286000', tradingClass='SPY'), execution=Execution(execId='0001f4e4.5b7a6bec.01.01', time=datetime.datetime(2018, 8, 20, 18, 2, 41, tzinfo=datetime.timezone.utc), acctNumber='DU1129763', exchange='ISE', side='BOT', shares=1.0, price=3.14, permId=1128982830, clientId=6, orderId=23, cumQty=1.0, avgPrice=3.14, lastLiquidity=2), commissionReport=CommissionReport(execId='0001f4e4.5b7a6bec.01.01', commission=1.4843, currency='USD'), time=datetime.datetime(2018, 8, 20, 18, 2, 41, tzinfo=datetime.timezone.utc)),\n",
       " Fill(contract=Option(conId=301719438, symbol='SPY', lastTradeDateOrContractMonth='20180921', strike=288.0, right='C', multiplier='100', exchange='SMART', currency='USD', localSymbol='SPY   180921C00288000', tradingClass='SPY'), execution=Execution(execId='0001f4e4.5b7a6cb9.01.01', time=datetime.datetime(2018, 8, 20, 18, 6, 8, tzinfo=datetime.timezone.utc), acctNumber='DU1129763', exchange='ISE', side='BOT', shares=1.0, price=2.03, permId=1128982836, clientId=6, orderId=28, cumQty=1.0, avgPrice=2.03, lastLiquidity=2), commissionReport=CommissionReport(execId='0001f4e4.5b7a6cb9.01.01', commission=1.4843, currency='USD'), time=datetime.datetime(2018, 8, 20, 18, 6, 8, 951635, tzinfo=datetime.timezone.utc))]"
      ]
     },
     "execution_count": 10,
     "metadata": {},
     "output_type": "execute_result"
    },
    {
     "name": "stderr",
     "output_type": "stream",
     "text": [
      "ERROR:ib_insync.client:Peer closed connection\n"
     ]
    }
   ],
   "source": [
    "ib.fills()"
   ]
  },
  {
   "cell_type": "code",
   "execution_count": null,
   "metadata": {
    "collapsed": true
   },
   "outputs": [],
   "source": []
  }
 ],
 "metadata": {
  "kernelspec": {
   "display_name": "Python 3",
   "language": "python",
   "name": "python3"
  },
  "language_info": {
   "codemirror_mode": {
    "name": "ipython",
    "version": 3
   },
   "file_extension": ".py",
   "mimetype": "text/x-python",
   "name": "python",
   "nbconvert_exporter": "python",
   "pygments_lexer": "ipython3",
   "version": "3.6.3"
  }
 },
 "nbformat": 4,
 "nbformat_minor": 2
}
