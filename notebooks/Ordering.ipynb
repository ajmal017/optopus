{
 "cells": [
  {
   "cell_type": "code",
   "execution_count": 1,
   "metadata": {
    "collapsed": false
   },
   "outputs": [],
   "source": [
    "%load_ext autoreload\n",
    "%autoreload 2\n",
    "\n",
    "import datetime\n",
    "import pandas as pd\n",
    "import matplotlib.pyplot as plt\n",
    "from ib_insync import *\n",
    "import os\n",
    "import sys\n",
    "\n",
    "nb_dir = os.path.split(os.getcwd())[0]\n",
    "if nb_dir not in sys.path:\n",
    "    sys.path.append(nb_dir)\n",
    "\n",
    "from optopus.ib_adapter import IBBrokerAdapter\n",
    "from optopus.optopus import Optopus\n",
    "from optopus.data_manager import DataManager, DataSource\n",
    "from optopus.data_objects import IndexAsset, StockAsset, OptionChainAsset, OrderAction, StrategyType, OptionRight, SignalData\n",
    "from optopus.utils import pdo, plot_option_positions\n",
    "\n",
    "%matplotlib inline"
   ]
  },
  {
   "cell_type": "code",
   "execution_count": 2,
   "metadata": {
    "collapsed": false
   },
   "outputs": [
    {
     "name": "stdout",
     "output_type": "stream",
     "text": [
      "Initializating managers\n",
      "Starting event listeners\n",
      "Connecting to IB broker\n",
      "Updating values\n",
      "SPY_OPT_20180921_276.0_P_SELL\n"
     ]
    }
   ],
   "source": [
    "host = '127.0.0.1'\n",
    "#port = 4002  # Gateway\n",
    "port = 7497  # TWS\n",
    "client = 6\n",
    "\n",
    "util.startLoop()\n",
    "ib = IB()\n",
    "\n",
    "iba = IBBrokerAdapter(ib, host, port, client)\n",
    "opt = Optopus(iba)\n",
    "opt.start()"
   ]
  },
  {
   "cell_type": "code",
   "execution_count": 3,
   "metadata": {
    "collapsed": false
   },
   "outputs": [],
   "source": [
    "symbol = 'SPY'\n",
    "u = IndexAsset(symbol)\n",
    "oc = OptionChainAsset(u)\n",
    "s = SignalData(asset=oc, \n",
    "           action=OrderAction.Sell, \n",
    "           quantity=1, \n",
    "           price=1.2, \n",
    "           expiration=datetime.datetime.strptime('21092018', \"%d%m%Y\").date(),\n",
    "           strike=277,\n",
    "           right=OptionRight.Put,\n",
    "           algorithm='foo',\n",
    "           strategy=StrategyType.SellNakedPut,\n",
    "           rol='no_rol')           "
   ]
  },
  {
   "cell_type": "code",
   "execution_count": 4,
   "metadata": {
    "collapsed": false
   },
   "outputs": [
    {
     "name": "stdout",
     "output_type": "stream",
     "text": [
      "new order!!\n",
      "- new order status -\n",
      "- new order status -\n"
     ]
    }
   ],
   "source": [
    "opt.process([s])"
   ]
  },
  {
   "cell_type": "code",
   "execution_count": null,
   "metadata": {
    "collapsed": false
   },
   "outputs": [],
   "source": [
    "ib.orders()"
   ]
  },
  {
   "cell_type": "code",
   "execution_count": null,
   "metadata": {
    "collapsed": false
   },
   "outputs": [],
   "source": [
    "ib.fills()"
   ]
  },
  {
   "cell_type": "code",
   "execution_count": null,
   "metadata": {
    "collapsed": false
   },
   "outputs": [],
   "source": [
    "from ib_insync.order import Trade\n",
    "t = Trade(contract=Option(conId=249238134, symbol='SPY', lastTradeDateOrContractMonth='20180921', strike=275.0, right='P', multiplier='100', exchange='SMART', currency='USD', localSymbol='SPY   180921P00275000', tradingClass='SPY'), order=LimitOrder(softDollarTier=SoftDollarTier(), orderId=54, clientId=6, permId=1461989338, action='SELL', totalQuantity=1.0, lmtPrice=0.88, auxPrice=0.0, tif='DAY', ocaType=3, orderRef='foo-Sell naked put-alone', volatility=13.239999999999998, volatilityType=2, deltaNeutralOrderType='None', deltaNeutralOpenClose='?', referencePriceType=0, account='DU1129763', clearingIntent='IB', adjustedOrderType='None', dontUseAutoPriceForHedge=True), orderStatus=OrderStatus(status='Filled', filled=1.0, avgFillPrice=0.89, permId=1461989338, lastFillPrice=0.89, clientId=6), fills=[Fill(contract=Option(conId=249238134, symbol='SPY', lastTradeDateOrContractMonth='20180921', strike=275.0, right='P', multiplier='100', exchange='SMART', currency='USD', localSymbol='SPY   180921P00275000', tradingClass='SPY'), execution=Execution(execId='0001f4e4.5b7b9f98.01.01', time=datetime.datetime(2018, 8, 21, 14, 24, 25, tzinfo=datetime.timezone.utc), acctNumber='DU1129763', exchange='ISE', side='SLD', shares=1.0, price=0.89, permId=1461989338, clientId=6, orderId=54, cumQty=1.0, avgPrice=0.89, orderRef='foo-Sell naked put-alone', lastLiquidity=2), commissionReport=CommissionReport(), time=datetime.datetime(2018, 8, 21, 14, 24, 26, 122764, tzinfo=datetime.timezone.utc))], log=[TradeLogEntry(time=datetime.datetime(2018, 8, 21, 14, 24, 24, 532641, tzinfo=datetime.timezone.utc), status='PendingSubmit', message=''), TradeLogEntry(time=datetime.datetime(2018, 8, 21, 14, 24, 24, 824514, tzinfo=datetime.timezone.utc), status='Submitted', message=''), TradeLogEntry(time=datetime.datetime(2018, 8, 21, 14, 24, 26, 122764, tzinfo=datetime.timezone.utc), status='Submitted', message='Fill 1.0@0.89'), TradeLogEntry(time=datetime.datetime(2018, 8, 21, 14, 24, 26, 185320, tzinfo=datetime.timezone.utc), status='Filled', message='')])\n",
    "t"
   ]
  },
  {
   "cell_type": "code",
   "execution_count": null,
   "metadata": {
    "collapsed": false
   },
   "outputs": [],
   "source": [
    "iba._translator.translate_trade(t)"
   ]
  },
  {
   "cell_type": "code",
   "execution_count": null,
   "metadata": {
    "collapsed": false
   },
   "outputs": [],
   "source": [
    "[v.quantity for k, v in opt._data_manager._data_positions.items()]"
   ]
  },
  {
   "cell_type": "code",
   "execution_count": null,
   "metadata": {
    "collapsed": true
   },
   "outputs": [],
   "source": []
  }
 ],
 "metadata": {
  "kernelspec": {
   "display_name": "Python 3",
   "language": "python",
   "name": "python3"
  },
  "language_info": {
   "codemirror_mode": {
    "name": "ipython",
    "version": 3
   },
   "file_extension": ".py",
   "mimetype": "text/x-python",
   "name": "python",
   "nbconvert_exporter": "python",
   "pygments_lexer": "ipython3",
   "version": "3.6.3"
  }
 },
 "nbformat": 4,
 "nbformat_minor": 2
}
