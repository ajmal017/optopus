{
 "cells": [
  {
   "cell_type": "code",
   "execution_count": 1,
   "metadata": {
    "collapsed": false
   },
   "outputs": [],
   "source": [
    "%load_ext autoreload\n",
    "%autoreload 2\n",
    "\n",
    "import datetime\n",
    "import pandas as pd\n",
    "import matplotlib.pyplot as plt\n",
    "from ib_insync import *\n",
    "import os\n",
    "import sys\n",
    "\n",
    "nb_dir = os.path.split(os.getcwd())[0]\n",
    "if nb_dir not in sys.path:\n",
    "    sys.path.append(nb_dir)\n",
    "\n",
    "from optopus.ib_adapter import IBBrokerAdapter\n",
    "from optopus.optopus import Optopus\n",
    "from optopus.data_manager import DataManager, DataSource\n",
    "from optopus.data_objects import IndexAsset, StockAsset, OptionChainAsset\n",
    "from optopus.utils import pdo, plot_option_positions\n",
    "\n",
    "%matplotlib inline"
   ]
  },
  {
   "cell_type": "code",
   "execution_count": 2,
   "metadata": {
    "collapsed": false
   },
   "outputs": [
    {
     "name": "stdout",
     "output_type": "stream",
     "text": [
      "[Initializating managers...]\n",
      "[Starting event listeners...]\n",
      "[Connecting to IB broker...]\n",
      "[Updating values...]\n"
     ]
    }
   ],
   "source": [
    "host = '127.0.0.1'\n",
    "#port = 4002  # Gateway\n",
    "port = 7497  # TWS\n",
    "client = 5\n",
    "\n",
    "util.startLoop()\n",
    "ib = IB()\n",
    "\n",
    "opt = Optopus(IBBrokerAdapter(ib, host, port, client))\n",
    "opt.start()"
   ]
  },
  {
   "cell_type": "code",
   "execution_count": 3,
   "metadata": {
    "collapsed": false
   },
   "outputs": [
    {
     "data": {
      "text/plain": [
       "[PortfolioItem(contract=Contract(secType='OPT', conId=249238131, symbol='SPY', lastTradeDateOrContractMonth='20180921', strike=270.0, right='P', multiplier='100', primaryExchange='AMEX', currency='USD', localSymbol='SPY   180921P00270000', tradingClass='SPY'), position=-2.0, marketPrice=0.8946527, marketValue=-178.93, averageCost=98.4224, unrealizedPNL=17.91, realizedPNL=0.0, account='DU1129763'),\n",
       " PortfolioItem(contract=Contract(secType='OPT', conId=282920901, symbol='SPY', lastTradeDateOrContractMonth='20180921', strike=274.0, right='P', multiplier='100', primaryExchange='AMEX', currency='USD', localSymbol='SPY   180921P00274000', tradingClass='SPY'), position=-1.0, marketPrice=1.20788575, marketValue=-120.79, averageCost=132.472, unrealizedPNL=11.68, realizedPNL=0.0, account='DU1129763'),\n",
       " PortfolioItem(contract=Contract(secType='OPT', conId=249238134, symbol='SPY', lastTradeDateOrContractMonth='20180921', strike=275.0, right='P', multiplier='100', primaryExchange='AMEX', currency='USD', localSymbol='SPY   180921P00275000', tradingClass='SPY'), position=-1.0, marketPrice=1.31276395, marketValue=-131.28, averageCost=87.5125, unrealizedPNL=-43.76, realizedPNL=0.0, account='DU1129763'),\n",
       " PortfolioItem(contract=Contract(secType='OPT', conId=282920906, symbol='SPY', lastTradeDateOrContractMonth='20180921', strike=276.0, right='P', multiplier='100', primaryExchange='AMEX', currency='USD', localSymbol='SPY   180921P00276000', tradingClass='SPY'), position=-14.0, marketPrice=1.4391767, marketValue=-2014.85, averageCost=99.28310715, unrealizedPNL=-624.88, realizedPNL=0.0, account='DU1129763'),\n",
       " PortfolioItem(contract=Contract(secType='OPT', conId=282920911, symbol='SPY', lastTradeDateOrContractMonth='20180921', strike=277.0, right='P', multiplier='100', primaryExchange='AMEX', currency='USD', localSymbol='SPY   180921P00277000', tradingClass='SPY'), position=-1.0, marketPrice=1.5748061, marketValue=-157.48, averageCost=119.5121, unrealizedPNL=-37.97, realizedPNL=0.0, account='DU1129763'),\n",
       " PortfolioItem(contract=Contract(secType='OPT', conId=258464422, symbol='SPY', lastTradeDateOrContractMonth='20180921', strike=285.0, right='C', multiplier='100', primaryExchange='AMEX', currency='USD', localSymbol='SPY   180921C00285000', tradingClass='SPY'), position=1.0, marketPrice=3.16354535, marketValue=316.35, averageCost=377.4843, unrealizedPNL=-61.13, realizedPNL=0.0, account='DU1129763'),\n",
       " PortfolioItem(contract=Contract(secType='OPT', conId=301719428, symbol='SPY', lastTradeDateOrContractMonth='20180921', strike=286.0, right='C', multiplier='100', primaryExchange='AMEX', currency='USD', localSymbol='SPY   180921C00286000', tradingClass='SPY'), position=1.0, marketPrice=2.5708494, marketValue=257.08, averageCost=315.4843, unrealizedPNL=-58.4, realizedPNL=0.0, account='DU1129763'),\n",
       " PortfolioItem(contract=Contract(secType='OPT', conId=301719435, symbol='SPY', lastTradeDateOrContractMonth='20180921', strike=287.0, right='C', multiplier='100', primaryExchange='AMEX', currency='USD', localSymbol='SPY   180921C00287000', tradingClass='SPY'), position=1.0, marketPrice=2.0535872, marketValue=205.36, averageCost=254.9843, unrealizedPNL=-49.63, realizedPNL=0.0, account='DU1129763'),\n",
       " PortfolioItem(contract=Contract(secType='OPT', conId=301719438, symbol='SPY', lastTradeDateOrContractMonth='20180921', strike=288.0, right='C', multiplier='100', primaryExchange='AMEX', currency='USD', localSymbol='SPY   180921C00288000', tradingClass='SPY'), position=1.0, marketPrice=1.61846685, marketValue=161.85, averageCost=204.4843, unrealizedPNL=-42.64, realizedPNL=0.0, account='DU1129763')]"
      ]
     },
     "execution_count": 3,
     "metadata": {},
     "output_type": "execute_result"
    }
   ],
   "source": [
    "ib.portfolio()"
   ]
  },
  {
   "cell_type": "code",
   "execution_count": 4,
   "metadata": {
    "collapsed": false
   },
   "outputs": [
    {
     "data": {
      "text/plain": [
       "[Position(account='DU1129763', contract=Contract(secType='OPT', conId=282920906, symbol='SPY', lastTradeDateOrContractMonth='20180921', strike=276.0, right='P', multiplier='100', currency='USD', localSymbol='SPY   180921P00276000', tradingClass='SPY'), position=-14.0, avgCost=99.28310715),\n",
       " Position(account='DU1129763', contract=Contract(secType='OPT', conId=301719438, symbol='SPY', lastTradeDateOrContractMonth='20180921', strike=288.0, right='C', multiplier='100', currency='USD', localSymbol='SPY   180921C00288000', tradingClass='SPY'), position=1.0, avgCost=204.4843),\n",
       " Position(account='DU1129763', contract=Contract(secType='OPT', conId=282920911, symbol='SPY', lastTradeDateOrContractMonth='20180921', strike=277.0, right='P', multiplier='100', currency='USD', localSymbol='SPY   180921P00277000', tradingClass='SPY'), position=-1.0, avgCost=119.5121),\n",
       " Position(account='DU1129763', contract=Contract(secType='OPT', conId=301719435, symbol='SPY', lastTradeDateOrContractMonth='20180921', strike=287.0, right='C', multiplier='100', currency='USD', localSymbol='SPY   180921C00287000', tradingClass='SPY'), position=1.0, avgCost=254.9843),\n",
       " Position(account='DU1129763', contract=Contract(secType='OPT', conId=258464422, symbol='SPY', lastTradeDateOrContractMonth='20180921', strike=285.0, right='C', multiplier='100', currency='USD', localSymbol='SPY   180921C00285000', tradingClass='SPY'), position=1.0, avgCost=377.4843),\n",
       " Position(account='DU1129763', contract=Contract(secType='OPT', conId=301719428, symbol='SPY', lastTradeDateOrContractMonth='20180921', strike=286.0, right='C', multiplier='100', currency='USD', localSymbol='SPY   180921C00286000', tradingClass='SPY'), position=1.0, avgCost=315.4843),\n",
       " Position(account='DU1129763', contract=Contract(secType='OPT', conId=249238134, symbol='SPY', lastTradeDateOrContractMonth='20180921', strike=275.0, right='P', multiplier='100', currency='USD', localSymbol='SPY   180921P00275000', tradingClass='SPY'), position=-1.0, avgCost=87.5125),\n",
       " Position(account='DU1129763', contract=Contract(secType='OPT', conId=249238131, symbol='SPY', lastTradeDateOrContractMonth='20180921', strike=270.0, right='P', multiplier='100', currency='USD', localSymbol='SPY   180921P00270000', tradingClass='SPY'), position=-2.0, avgCost=98.4224),\n",
       " Position(account='DU1129763', contract=Contract(secType='OPT', conId=282920901, symbol='SPY', lastTradeDateOrContractMonth='20180921', strike=274.0, right='P', multiplier='100', currency='USD', localSymbol='SPY   180921P00274000', tradingClass='SPY'), position=-1.0, avgCost=132.472)]"
      ]
     },
     "execution_count": 4,
     "metadata": {},
     "output_type": "execute_result"
    }
   ],
   "source": [
    "ib.positions()"
   ]
  },
  {
   "cell_type": "code",
   "execution_count": 5,
   "metadata": {
    "collapsed": false
   },
   "outputs": [
    {
     "data": {
      "text/html": [
       "<div>\n",
       "<table border=\"1\" class=\"dataframe\">\n",
       "  <thead>\n",
       "    <tr style=\"text-align: right;\">\n",
       "      <th></th>\n",
       "      <th>asset_type</th>\n",
       "      <th>expiration</th>\n",
       "      <th>strike</th>\n",
       "      <th>right</th>\n",
       "      <th>ownership</th>\n",
       "      <th>quantity</th>\n",
       "      <th>average_cost</th>\n",
       "    </tr>\n",
       "    <tr>\n",
       "      <th>code</th>\n",
       "      <th></th>\n",
       "      <th></th>\n",
       "      <th></th>\n",
       "      <th></th>\n",
       "      <th></th>\n",
       "      <th></th>\n",
       "      <th></th>\n",
       "    </tr>\n",
       "  </thead>\n",
       "  <tbody>\n",
       "    <tr>\n",
       "      <th>SPY</th>\n",
       "      <td>OPT</td>\n",
       "      <td>2018-09-21</td>\n",
       "      <td>276.0</td>\n",
       "      <td>P</td>\n",
       "      <td>SELL</td>\n",
       "      <td>14.0</td>\n",
       "      <td>99.283107</td>\n",
       "    </tr>\n",
       "    <tr>\n",
       "      <th>SPY</th>\n",
       "      <td>OPT</td>\n",
       "      <td>2018-09-21</td>\n",
       "      <td>288.0</td>\n",
       "      <td>C</td>\n",
       "      <td>BUY</td>\n",
       "      <td>1.0</td>\n",
       "      <td>204.484300</td>\n",
       "    </tr>\n",
       "    <tr>\n",
       "      <th>SPY</th>\n",
       "      <td>OPT</td>\n",
       "      <td>2018-09-21</td>\n",
       "      <td>277.0</td>\n",
       "      <td>P</td>\n",
       "      <td>SELL</td>\n",
       "      <td>1.0</td>\n",
       "      <td>119.512100</td>\n",
       "    </tr>\n",
       "    <tr>\n",
       "      <th>SPY</th>\n",
       "      <td>OPT</td>\n",
       "      <td>2018-09-21</td>\n",
       "      <td>287.0</td>\n",
       "      <td>C</td>\n",
       "      <td>BUY</td>\n",
       "      <td>1.0</td>\n",
       "      <td>254.984300</td>\n",
       "    </tr>\n",
       "    <tr>\n",
       "      <th>SPY</th>\n",
       "      <td>OPT</td>\n",
       "      <td>2018-09-21</td>\n",
       "      <td>285.0</td>\n",
       "      <td>C</td>\n",
       "      <td>BUY</td>\n",
       "      <td>1.0</td>\n",
       "      <td>377.484300</td>\n",
       "    </tr>\n",
       "    <tr>\n",
       "      <th>SPY</th>\n",
       "      <td>OPT</td>\n",
       "      <td>2018-09-21</td>\n",
       "      <td>286.0</td>\n",
       "      <td>C</td>\n",
       "      <td>BUY</td>\n",
       "      <td>1.0</td>\n",
       "      <td>315.484300</td>\n",
       "    </tr>\n",
       "    <tr>\n",
       "      <th>SPY</th>\n",
       "      <td>OPT</td>\n",
       "      <td>2018-09-21</td>\n",
       "      <td>275.0</td>\n",
       "      <td>P</td>\n",
       "      <td>SELL</td>\n",
       "      <td>1.0</td>\n",
       "      <td>87.512500</td>\n",
       "    </tr>\n",
       "    <tr>\n",
       "      <th>SPY</th>\n",
       "      <td>OPT</td>\n",
       "      <td>2018-09-21</td>\n",
       "      <td>270.0</td>\n",
       "      <td>P</td>\n",
       "      <td>SELL</td>\n",
       "      <td>2.0</td>\n",
       "      <td>98.422400</td>\n",
       "    </tr>\n",
       "    <tr>\n",
       "      <th>SPY</th>\n",
       "      <td>OPT</td>\n",
       "      <td>2018-09-21</td>\n",
       "      <td>274.0</td>\n",
       "      <td>P</td>\n",
       "      <td>SELL</td>\n",
       "      <td>1.0</td>\n",
       "      <td>132.472000</td>\n",
       "    </tr>\n",
       "  </tbody>\n",
       "</table>\n",
       "</div>"
      ],
      "text/plain": [
       "     asset_type  expiration  strike right ownership  quantity  average_cost\n",
       "code                                                                       \n",
       "SPY         OPT  2018-09-21   276.0     P      SELL      14.0     99.283107\n",
       "SPY         OPT  2018-09-21   288.0     C       BUY       1.0    204.484300\n",
       "SPY         OPT  2018-09-21   277.0     P      SELL       1.0    119.512100\n",
       "SPY         OPT  2018-09-21   287.0     C       BUY       1.0    254.984300\n",
       "SPY         OPT  2018-09-21   285.0     C       BUY       1.0    377.484300\n",
       "SPY         OPT  2018-09-21   286.0     C       BUY       1.0    315.484300\n",
       "SPY         OPT  2018-09-21   275.0     P      SELL       1.0     87.512500\n",
       "SPY         OPT  2018-09-21   270.0     P      SELL       2.0     98.422400\n",
       "SPY         OPT  2018-09-21   274.0     P      SELL       1.0    132.472000"
      ]
     },
     "execution_count": 5,
     "metadata": {},
     "output_type": "execute_result"
    }
   ],
   "source": [
    "pdo(opt.positions())"
   ]
  },
  {
   "cell_type": "code",
   "execution_count": 6,
   "metadata": {
    "collapsed": false
   },
   "outputs": [],
   "source": [
    "u = StockAsset('SPY', DataSource.IB)"
   ]
  },
  {
   "cell_type": "code",
   "execution_count": 7,
   "metadata": {
    "collapsed": false
   },
   "outputs": [],
   "source": [
    "price = pdo(opt.current(u, ['market_price']))['market_price']"
   ]
  },
  {
   "cell_type": "code",
   "execution_count": 8,
   "metadata": {
    "collapsed": false
   },
   "outputs": [
    {
     "data": {
      "image/png": "[encoded data removed]",
      "text/plain": [
       "<Figure size 864x144 with 1 Axes>"
      ]
     },
     "metadata": {},
     "output_type": "display_data"
    }
   ],
   "source": [
    "plot_option_positions(opt.positions(), underlying_price = price)"
   ]
  }
 ],
 "metadata": {
  "kernelspec": {
   "display_name": "Python 3",
   "language": "python",
   "name": "python3"
  },
  "language_info": {
   "codemirror_mode": {
    "name": "ipython",
    "version": 3
   },
   "file_extension": ".py",
   "mimetype": "text/x-python",
   "name": "python",
   "nbconvert_exporter": "python",
   "pygments_lexer": "ipython3",
   "version": "3.6.3"
  }
 },
 "nbformat": 4,
 "nbformat_minor": 2
}
