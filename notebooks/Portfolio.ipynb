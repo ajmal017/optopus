{
 "cells": [
  {
   "cell_type": "code",
   "execution_count": 1,
   "metadata": {
    "collapsed": false
   },
   "outputs": [],
   "source": [
    "%load_ext autoreload\n",
    "%autoreload 2\n",
    "\n",
    "import datetime\n",
    "import pandas as pd\n",
    "import matplotlib.pyplot as plt\n",
    "from ib_insync import *\n",
    "import os\n",
    "import sys\n",
    "\n",
    "nb_dir = os.path.split(os.getcwd())[0]\n",
    "if nb_dir not in sys.path:\n",
    "    sys.path.append(nb_dir)\n",
    "\n",
    "from optopus.ib_adapter import IBBrokerAdapter\n",
    "from optopus.optopus import Optopus\n",
    "from optopus.data_manager import DataManager, DataSource\n",
    "from optopus.utils import pdo, plot_option_positions\n",
    "\n",
    "%matplotlib inline"
   ]
  },
  {
   "cell_type": "code",
   "execution_count": 2,
   "metadata": {
    "collapsed": false
   },
   "outputs": [
    {
     "name": "stdout",
     "output_type": "stream",
     "text": [
      "[Initializating managers]\n",
      "[Connecting to IB broker]\n",
      "[Updating portfolio]\n",
      "[Adding underlyings]\n",
      "- Initializing underlyings: .....\n",
      "- Retriving current data: .....\n",
      "- Retriving historical data: .....\n",
      "- Retriving historical IV data: .....\n",
      "- Computing fields: .....\n",
      "[Started]\n",
      "\n"
     ]
    }
   ],
   "source": [
    "util.startLoop()\n",
    "opt = Optopus(IBBrokerAdapter(IB(), host='127.0.0.1', port=7497, client=8))\n",
    "opt.start()"
   ]
  },
  {
   "cell_type": "code",
   "execution_count": 3,
   "metadata": {
    "collapsed": false
   },
   "outputs": [
    {
     "data": {
      "text/html": [
       "<div>\n",
       "<table border=\"1\" class=\"dataframe\">\n",
       "  <thead>\n",
       "    <tr style=\"text-align: right;\">\n",
       "      <th></th>\n",
       "      <th>code</th>\n",
       "      <th>asset_type</th>\n",
       "      <th>expiration</th>\n",
       "      <th>strike</th>\n",
       "      <th>right</th>\n",
       "      <th>ownership</th>\n",
       "      <th>quantity</th>\n",
       "      <th>average_cost</th>\n",
       "    </tr>\n",
       "  </thead>\n",
       "  <tbody>\n",
       "    <tr>\n",
       "      <th>0</th>\n",
       "      <td>SPY</td>\n",
       "      <td>OPT</td>\n",
       "      <td>2018-09-21</td>\n",
       "      <td>285.0</td>\n",
       "      <td>C</td>\n",
       "      <td>BUY</td>\n",
       "      <td>1.0</td>\n",
       "      <td>377.484300</td>\n",
       "    </tr>\n",
       "    <tr>\n",
       "      <th>1</th>\n",
       "      <td>SPY</td>\n",
       "      <td>OPT</td>\n",
       "      <td>2018-09-21</td>\n",
       "      <td>275.0</td>\n",
       "      <td>P</td>\n",
       "      <td>SELL</td>\n",
       "      <td>1.0</td>\n",
       "      <td>87.512500</td>\n",
       "    </tr>\n",
       "    <tr>\n",
       "      <th>2</th>\n",
       "      <td>SPY</td>\n",
       "      <td>OPT</td>\n",
       "      <td>2018-09-21</td>\n",
       "      <td>270.0</td>\n",
       "      <td>P</td>\n",
       "      <td>SELL</td>\n",
       "      <td>2.0</td>\n",
       "      <td>98.422400</td>\n",
       "    </tr>\n",
       "    <tr>\n",
       "      <th>3</th>\n",
       "      <td>SPY</td>\n",
       "      <td>OPT</td>\n",
       "      <td>2018-09-21</td>\n",
       "      <td>276.0</td>\n",
       "      <td>P</td>\n",
       "      <td>SELL</td>\n",
       "      <td>14.0</td>\n",
       "      <td>99.283107</td>\n",
       "    </tr>\n",
       "    <tr>\n",
       "      <th>4</th>\n",
       "      <td>SPY</td>\n",
       "      <td>OPT</td>\n",
       "      <td>2018-09-21</td>\n",
       "      <td>288.0</td>\n",
       "      <td>C</td>\n",
       "      <td>BUY</td>\n",
       "      <td>1.0</td>\n",
       "      <td>204.484300</td>\n",
       "    </tr>\n",
       "    <tr>\n",
       "      <th>5</th>\n",
       "      <td>SPY</td>\n",
       "      <td>OPT</td>\n",
       "      <td>2018-09-21</td>\n",
       "      <td>277.0</td>\n",
       "      <td>P</td>\n",
       "      <td>SELL</td>\n",
       "      <td>1.0</td>\n",
       "      <td>119.512100</td>\n",
       "    </tr>\n",
       "    <tr>\n",
       "      <th>6</th>\n",
       "      <td>SPY</td>\n",
       "      <td>OPT</td>\n",
       "      <td>2018-09-21</td>\n",
       "      <td>287.0</td>\n",
       "      <td>C</td>\n",
       "      <td>BUY</td>\n",
       "      <td>1.0</td>\n",
       "      <td>254.984300</td>\n",
       "    </tr>\n",
       "    <tr>\n",
       "      <th>7</th>\n",
       "      <td>SPY</td>\n",
       "      <td>OPT</td>\n",
       "      <td>2018-09-21</td>\n",
       "      <td>286.0</td>\n",
       "      <td>C</td>\n",
       "      <td>BUY</td>\n",
       "      <td>1.0</td>\n",
       "      <td>315.484300</td>\n",
       "    </tr>\n",
       "    <tr>\n",
       "      <th>8</th>\n",
       "      <td>SPY</td>\n",
       "      <td>OPT</td>\n",
       "      <td>2018-09-21</td>\n",
       "      <td>274.0</td>\n",
       "      <td>P</td>\n",
       "      <td>SELL</td>\n",
       "      <td>1.0</td>\n",
       "      <td>132.472000</td>\n",
       "    </tr>\n",
       "  </tbody>\n",
       "</table>\n",
       "</div>"
      ],
      "text/plain": [
       "  code asset_type  expiration  strike right ownership  quantity  average_cost\n",
       "0  SPY        OPT  2018-09-21   285.0     C       BUY       1.0    377.484300\n",
       "1  SPY        OPT  2018-09-21   275.0     P      SELL       1.0     87.512500\n",
       "2  SPY        OPT  2018-09-21   270.0     P      SELL       2.0     98.422400\n",
       "3  SPY        OPT  2018-09-21   276.0     P      SELL      14.0     99.283107\n",
       "4  SPY        OPT  2018-09-21   288.0     C       BUY       1.0    204.484300\n",
       "5  SPY        OPT  2018-09-21   277.0     P      SELL       1.0    119.512100\n",
       "6  SPY        OPT  2018-09-21   287.0     C       BUY       1.0    254.984300\n",
       "7  SPY        OPT  2018-09-21   286.0     C       BUY       1.0    315.484300\n",
       "8  SPY        OPT  2018-09-21   274.0     P      SELL       1.0    132.472000"
      ]
     },
     "execution_count": 3,
     "metadata": {},
     "output_type": "execute_result"
    }
   ],
   "source": [
    "pdo(opt.positions())"
   ]
  },
  {
   "cell_type": "code",
   "execution_count": null,
   "metadata": {
    "collapsed": true
   },
   "outputs": [],
   "source": []
  }
 ],
 "metadata": {
  "kernelspec": {
   "display_name": "Python 3",
   "language": "python",
   "name": "python3"
  },
  "language_info": {
   "codemirror_mode": {
    "name": "ipython",
    "version": 3
   },
   "file_extension": ".py",
   "mimetype": "text/x-python",
   "name": "python",
   "nbconvert_exporter": "python",
   "pygments_lexer": "ipython3",
   "version": "3.6.3"
  }
 },
 "nbformat": 4,
 "nbformat_minor": 2
}
