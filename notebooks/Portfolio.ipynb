{
 "cells": [
  {
   "cell_type": "code",
   "execution_count": 1,
   "metadata": {
    "collapsed": false
   },
   "outputs": [],
   "source": [
    "%load_ext autoreload\n",
    "%autoreload 2\n",
    "\n",
    "import datetime\n",
    "import pandas as pd\n",
    "import matplotlib.pyplot as plt\n",
    "from ib_insync import *\n",
    "import os\n",
    "import sys\n",
    "\n",
    "nb_dir = os.path.split(os.getcwd())[0]\n",
    "if nb_dir not in sys.path:\n",
    "    sys.path.append(nb_dir)\n",
    "\n",
    "from optopus.ib_adapter import IBBrokerAdapter\n",
    "from optopus.optopus import Optopus\n",
    "from optopus.data_manager import DataManager, DataSource\n",
    "from optopus.data_objects import IndexAsset, StockAsset, OptionChainAsset\n",
    "from optopus.utils import pdo, plot_option_positions\n",
    "\n",
    "%matplotlib inline"
   ]
  },
  {
   "cell_type": "code",
   "execution_count": 2,
   "metadata": {
    "collapsed": false
   },
   "outputs": [],
   "source": [
    "host = '127.0.0.1'\n",
    "#port = 4002  # Gateway\n",
    "port = 7497  # TWS\n",
    "client = 5\n",
    "\n",
    "util.startLoop()\n",
    "ib = IB()\n",
    "\n",
    "opt = Optopus(IBBrokerAdapter(ib, host, port, client))\n",
    "opt.start()"
   ]
  },
  {
   "cell_type": "code",
   "execution_count": 3,
   "metadata": {
    "collapsed": false
   },
   "outputs": [
    {
     "data": {
      "text/plain": [
       "[PortfolioItem(contract=Contract(secType='OPT', conId=249238131, symbol='SPY', lastTradeDateOrContractMonth='20180921', strike=270.0, right='P', multiplier='100', primaryExchange='AMEX', currency='USD', localSymbol='SPY   180921P00270000', tradingClass='SPY'), position=-2.0, marketPrice=0.72000005, marketValue=-144.0, averageCost=98.4224, unrealizedPNL=52.84, realizedPNL=0.0, account='DU1129763'),\n",
       " PortfolioItem(contract=Contract(secType='OPT', conId=282920901, symbol='SPY', lastTradeDateOrContractMonth='20180921', strike=274.0, right='P', multiplier='100', primaryExchange='AMEX', currency='USD', localSymbol='SPY   180921P00274000', tradingClass='SPY'), position=-1.0, marketPrice=0.98, marketValue=-98.0, averageCost=132.472, unrealizedPNL=34.47, realizedPNL=0.0, account='DU1129763'),\n",
       " PortfolioItem(contract=Contract(secType='OPT', conId=258464422, symbol='SPY', lastTradeDateOrContractMonth='20180921', strike=285.0, right='C', multiplier='100', primaryExchange='AMEX', currency='USD', localSymbol='SPY   180921C00285000', tradingClass='SPY'), position=1.0, marketPrice=3.73, marketValue=373.0, averageCost=377.4843, unrealizedPNL=-4.48, realizedPNL=0.0, account='DU1129763'),\n",
       " PortfolioItem(contract=Contract(secType='OPT', conId=301719428, symbol='SPY', lastTradeDateOrContractMonth='20180921', strike=286.0, right='C', multiplier='100', primaryExchange='AMEX', currency='USD', localSymbol='SPY   180921C00286000', tradingClass='SPY'), position=1.0, marketPrice=3.0799999, marketValue=308.0, averageCost=315.4843, unrealizedPNL=-7.48, realizedPNL=0.0, account='DU1129763'),\n",
       " PortfolioItem(contract=Contract(secType='OPT', conId=301719435, symbol='SPY', lastTradeDateOrContractMonth='20180921', strike=287.0, right='C', multiplier='100', primaryExchange='AMEX', currency='USD', localSymbol='SPY   180921C00287000', tradingClass='SPY'), position=1.0, marketPrice=2.5, marketValue=250.0, averageCost=254.9843, unrealizedPNL=-4.98, realizedPNL=0.0, account='DU1129763'),\n",
       " PortfolioItem(contract=Contract(secType='OPT', conId=301719438, symbol='SPY', lastTradeDateOrContractMonth='20180921', strike=288.0, right='C', multiplier='100', primaryExchange='AMEX', currency='USD', localSymbol='SPY   180921C00288000', tradingClass='SPY'), position=1.0, marketPrice=2.0, marketValue=200.0, averageCost=204.4843, unrealizedPNL=-4.48, realizedPNL=0.0, account='DU1129763')]"
      ]
     },
     "execution_count": 3,
     "metadata": {},
     "output_type": "execute_result"
    }
   ],
   "source": [
    "ib.portfolio()"
   ]
  },
  {
   "cell_type": "code",
   "execution_count": 4,
   "metadata": {
    "collapsed": false
   },
   "outputs": [
    {
     "data": {
      "text/plain": [
       "[Position(account='DU1129763', contract=Contract(secType='OPT', conId=301719438, symbol='SPY', lastTradeDateOrContractMonth='20180921', strike=288.0, right='C', multiplier='100', currency='USD', localSymbol='SPY   180921C00288000', tradingClass='SPY'), position=1.0, avgCost=204.48429999999996),\n",
       " Position(account='DU1129763', contract=Contract(secType='OPT', conId=301719435, symbol='SPY', lastTradeDateOrContractMonth='20180921', strike=287.0, right='C', multiplier='100', currency='USD', localSymbol='SPY   180921C00287000', tradingClass='SPY'), position=1.0, avgCost=254.9843),\n",
       " Position(account='DU1129763', contract=Contract(secType='OPT', conId=258464422, symbol='SPY', lastTradeDateOrContractMonth='20180921', strike=285.0, right='C', multiplier='100', currency='USD', localSymbol='SPY   180921C00285000', tradingClass='SPY'), position=1.0, avgCost=377.4843),\n",
       " Position(account='DU1129763', contract=Contract(secType='OPT', conId=301719428, symbol='SPY', lastTradeDateOrContractMonth='20180921', strike=286.0, right='C', multiplier='100', currency='USD', localSymbol='SPY   180921C00286000', tradingClass='SPY'), position=1.0, avgCost=315.4843),\n",
       " Position(account='DU1129763', contract=Contract(secType='OPT', conId=249238131, symbol='SPY', lastTradeDateOrContractMonth='20180921', strike=270.0, right='P', multiplier='100', currency='USD', localSymbol='SPY   180921P00270000', tradingClass='SPY'), position=-2.0, avgCost=98.4224),\n",
       " Position(account='DU1129763', contract=Contract(secType='OPT', conId=282920901, symbol='SPY', lastTradeDateOrContractMonth='20180921', strike=274.0, right='P', multiplier='100', currency='USD', localSymbol='SPY   180921P00274000', tradingClass='SPY'), position=-1.0, avgCost=132.472)]"
      ]
     },
     "execution_count": 4,
     "metadata": {},
     "output_type": "execute_result"
    }
   ],
   "source": [
    "ib.positions()"
   ]
  },
  {
   "cell_type": "code",
   "execution_count": 5,
   "metadata": {
    "collapsed": false
   },
   "outputs": [
    {
     "data": {
      "text/html": [
       "<div>\n",
       "<table border=\"1\" class=\"dataframe\">\n",
       "  <thead>\n",
       "    <tr style=\"text-align: right;\">\n",
       "      <th></th>\n",
       "      <th>asset_type</th>\n",
       "      <th>expiration</th>\n",
       "      <th>strike</th>\n",
       "      <th>right</th>\n",
       "      <th>ownership</th>\n",
       "      <th>quantity</th>\n",
       "      <th>average_cost</th>\n",
       "    </tr>\n",
       "    <tr>\n",
       "      <th>code</th>\n",
       "      <th></th>\n",
       "      <th></th>\n",
       "      <th></th>\n",
       "      <th></th>\n",
       "      <th></th>\n",
       "      <th></th>\n",
       "      <th></th>\n",
       "    </tr>\n",
       "  </thead>\n",
       "  <tbody>\n",
       "    <tr>\n",
       "      <th>SPY</th>\n",
       "      <td>OPT</td>\n",
       "      <td>2018-09-21</td>\n",
       "      <td>288.0</td>\n",
       "      <td>C</td>\n",
       "      <td>BUY</td>\n",
       "      <td>1.0</td>\n",
       "      <td>204.4843</td>\n",
       "    </tr>\n",
       "    <tr>\n",
       "      <th>SPY</th>\n",
       "      <td>OPT</td>\n",
       "      <td>2018-09-21</td>\n",
       "      <td>287.0</td>\n",
       "      <td>C</td>\n",
       "      <td>BUY</td>\n",
       "      <td>1.0</td>\n",
       "      <td>254.9843</td>\n",
       "    </tr>\n",
       "    <tr>\n",
       "      <th>SPY</th>\n",
       "      <td>OPT</td>\n",
       "      <td>2018-09-21</td>\n",
       "      <td>285.0</td>\n",
       "      <td>C</td>\n",
       "      <td>BUY</td>\n",
       "      <td>1.0</td>\n",
       "      <td>377.4843</td>\n",
       "    </tr>\n",
       "    <tr>\n",
       "      <th>SPY</th>\n",
       "      <td>OPT</td>\n",
       "      <td>2018-09-21</td>\n",
       "      <td>286.0</td>\n",
       "      <td>C</td>\n",
       "      <td>BUY</td>\n",
       "      <td>1.0</td>\n",
       "      <td>315.4843</td>\n",
       "    </tr>\n",
       "    <tr>\n",
       "      <th>SPY</th>\n",
       "      <td>OPT</td>\n",
       "      <td>2018-09-21</td>\n",
       "      <td>270.0</td>\n",
       "      <td>P</td>\n",
       "      <td>SELL</td>\n",
       "      <td>2.0</td>\n",
       "      <td>98.4224</td>\n",
       "    </tr>\n",
       "    <tr>\n",
       "      <th>SPY</th>\n",
       "      <td>OPT</td>\n",
       "      <td>2018-09-21</td>\n",
       "      <td>274.0</td>\n",
       "      <td>P</td>\n",
       "      <td>SELL</td>\n",
       "      <td>1.0</td>\n",
       "      <td>132.4720</td>\n",
       "    </tr>\n",
       "  </tbody>\n",
       "</table>\n",
       "</div>"
      ],
      "text/plain": [
       "     asset_type  expiration  strike right ownership  quantity  average_cost\n",
       "code                                                                       \n",
       "SPY         OPT  2018-09-21   288.0     C       BUY       1.0      204.4843\n",
       "SPY         OPT  2018-09-21   287.0     C       BUY       1.0      254.9843\n",
       "SPY         OPT  2018-09-21   285.0     C       BUY       1.0      377.4843\n",
       "SPY         OPT  2018-09-21   286.0     C       BUY       1.0      315.4843\n",
       "SPY         OPT  2018-09-21   270.0     P      SELL       2.0       98.4224\n",
       "SPY         OPT  2018-09-21   274.0     P      SELL       1.0      132.4720"
      ]
     },
     "execution_count": 5,
     "metadata": {},
     "output_type": "execute_result"
    }
   ],
   "source": [
    "pdo(opt.positions())"
   ]
  },
  {
   "cell_type": "code",
   "execution_count": 6,
   "metadata": {
    "collapsed": false
   },
   "outputs": [],
   "source": [
    "u = StockAsset('SPY', DataSource.IB)"
   ]
  },
  {
   "cell_type": "code",
   "execution_count": 7,
   "metadata": {
    "collapsed": false
   },
   "outputs": [],
   "source": [
    "price = pdo(opt.current(u, ['market_price']))['market_price']"
   ]
  },
  {
   "cell_type": "code",
   "execution_count": 8,
   "metadata": {
    "collapsed": false
   },
   "outputs": [
    {
     "data": {
      "image/png": "[encoded data removed]",
      "text/plain": [
       "<Figure size 864x144 with 1 Axes>"
      ]
     },
     "metadata": {},
     "output_type": "display_data"
    },
    {
     "name": "stderr",
     "output_type": "stream",
     "text": [
      "ERROR:ib_insync.client:Peer closed connection\n"
     ]
    }
   ],
   "source": [
    "plot_option_positions(opt.positions(), underlying_price = price)"
   ]
  }
 ],
 "metadata": {
  "kernelspec": {
   "display_name": "Python 3",
   "language": "python",
   "name": "python3"
  },
  "language_info": {
   "codemirror_mode": {
    "name": "ipython",
    "version": 3
   },
   "file_extension": ".py",
   "mimetype": "text/x-python",
   "name": "python",
   "nbconvert_exporter": "python",
   "pygments_lexer": "ipython3",
   "version": "3.6.3"
  }
 },
 "nbformat": 4,
 "nbformat_minor": 2
}
