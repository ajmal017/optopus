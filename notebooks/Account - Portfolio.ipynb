{
 "cells": [
  {
   "cell_type": "code",
   "execution_count": 1,
   "metadata": {
    "collapsed": true
   },
   "outputs": [],
   "source": [
    "%load_ext autoreload\n",
    "%autoreload 2\n",
    "\n",
    "import datetime\n",
    "import numpy as np\n",
    "import pandas as pd\n",
    "import matplotlib.pyplot as plt\n",
    "from ib_insync import *\n",
    "import os\n",
    "import sys\n",
    "\n",
    "nb_dir = os.path.split(os.getcwd())[0]\n",
    "if nb_dir not in sys.path:\n",
    "    sys.path.append(nb_dir)\n",
    "\n",
    "from optopus.ib_adapter import IBBrokerAdapter\n",
    "from optopus.optopus import Optopus\n",
    "from optopus.utils import pdo\n",
    "\n",
    "\n",
    "%matplotlib inline"
   ]
  },
  {
   "cell_type": "code",
   "execution_count": 2,
   "metadata": {
    "collapsed": false
   },
   "outputs": [
    {
     "name": "stdout",
     "output_type": "stream",
     "text": [
      "[Initializating managers]\n",
      "[Connecting to IB broker]\n",
      "[Updating portfolio]\n",
      "[Adding underlyings]\n",
      "- Initializing underlyings: ..\n",
      "- Retriving current data: ..\n",
      "- Retriving historical data: ..\n",
      "- Retriving historical IV data: ..\n",
      "- Computing fields: ..\n",
      "[Started]\n",
      "\n"
     ]
    }
   ],
   "source": [
    "# port = 7497 TWS paper trading\n",
    "util.startLoop()\n",
    "opt = Optopus(IBBrokerAdapter(IB(), host='127.0.0.1', port=7496, client=6))\n",
    "opt.start()"
   ]
  },
  {
   "cell_type": "markdown",
   "metadata": {},
   "source": [
    "# Account"
   ]
  },
  {
   "cell_type": "code",
   "execution_count": 25,
   "metadata": {
    "collapsed": false
   },
   "outputs": [
    {
     "name": "stdout",
     "output_type": "stream",
     "text": [
      "[Balances]\n",
      "Net liquidation\t\t USD 11555.99\n",
      "Equity with loan\t USD 11555.99\n",
      "Total cash\t\t None\n",
      "\n",
      "[Margin requierements]\n",
      "Initial margin\t\t USD 0.00\n",
      "Maintenance margin\t USD 0.00\n",
      "\n",
      "[Available for trading]\n",
      "Funds\t\t\t USD 11555.99\n",
      "Excess Liquidity\t USD 11555.99\n",
      "SMA\t\t\t USD 11808.64\n",
      "Buying power\t\t USD 46223.96\n",
      "Day trades left\t\t 3\n"
     ]
    }
   ],
   "source": [
    "acc = opt.account()\n",
    "print('[Balances]')\n",
    "print('Net liquidation\\t\\t {}'.format(acc['net_liquidation']))\n",
    "print('Equity with loan\\t {}'.format(acc['equity_with_loan']))\n",
    "print('Total cash\\t\\t {}'.format(acc['cash']))\n",
    "print('\\n[Margin requierements]')\n",
    "print('Initial margin\\t\\t {}'.format(acc['initial_margin']))\n",
    "print('Maintenance margin\\t {}'.format(acc['maintenance_margin']))\n",
    "print('\\n[Available for trading]')\n",
    "print('Funds\\t\\t\\t {}'.format(acc['funds']))\n",
    "print('Excess Liquidity\\t {}'.format(acc['excess_liquidity']))\n",
    "print('SMA\\t\\t\\t {}'.format(acc['SMA']))\n",
    "print('Buying power\\t\\t {}'.format(acc['buying_power']))\n",
    "print('Day trades left\\t\\t {}'.format(acc['max_day_trades']))"
   ]
  },
  {
   "cell_type": "markdown",
   "metadata": {},
   "source": [
    "# Portfolio"
   ]
  },
  {
   "cell_type": "code",
   "execution_count": null,
   "metadata": {
    "collapsed": true
   },
   "outputs": [],
   "source": []
  }
 ],
 "metadata": {
  "kernelspec": {
   "display_name": "Python 3",
   "language": "python",
   "name": "python3"
  },
  "language_info": {
   "codemirror_mode": {
    "name": "ipython",
    "version": 3
   },
   "file_extension": ".py",
   "mimetype": "text/x-python",
   "name": "python",
   "nbconvert_exporter": "python",
   "pygments_lexer": "ipython3",
   "version": "3.6.3"
  }
 },
 "nbformat": 4,
 "nbformat_minor": 2
}
