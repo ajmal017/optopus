{
 "cells": [
  {
   "cell_type": "code",
   "execution_count": 1,
   "metadata": {
    "collapsed": true
   },
   "outputs": [],
   "source": [
    "%load_ext autoreload\n",
    "%autoreload 2\n",
    "\n",
    "import datetime\n",
    "import numpy as np\n",
    "import pandas as pd\n",
    "import matplotlib.pyplot as plt\n",
    "from ib_insync import *\n",
    "import os\n",
    "import sys\n",
    "\n",
    "nb_dir = os.path.split(os.getcwd())[0]\n",
    "if nb_dir not in sys.path:\n",
    "    sys.path.append(nb_dir)\n",
    "\n",
    "from optopus.ib_adapter import IBBrokerAdapter\n",
    "from optopus.optopus import Optopus\n",
    "from optopus.utils import pdo\n",
    "\n",
    "\n",
    "%matplotlib inline"
   ]
  },
  {
   "cell_type": "code",
   "execution_count": 2,
   "metadata": {
    "collapsed": false
   },
   "outputs": [
    {
     "name": "stdout",
     "output_type": "stream",
     "text": [
      "[Initializating managers]\n",
      "[Connecting to IB broker]\n",
      "[Adding underlyings]\n",
      "- Initializing underlyings:\t..\n",
      "- Retriving current data:\t..\n",
      "- Retriving historical data:\t..\n",
      "- Retriving historical IV data:\t..\n",
      "- Computing fields:\t\t..\n",
      "[Updating portfolio]\n",
      "\n",
      "[Started]\n",
      "\n"
     ]
    }
   ],
   "source": [
    "# port = 7497 TWS paper trading\n",
    "# port = 7496 TWS live trading\n",
    "util.startLoop()\n",
    "opt = Optopus(IBBrokerAdapter(IB(), host='127.0.0.1', port=7497, client=6))\n",
    "opt.start()"
   ]
  },
  {
   "cell_type": "markdown",
   "metadata": {},
   "source": [
    "# Account"
   ]
  },
  {
   "cell_type": "code",
   "execution_count": 3,
   "metadata": {
    "collapsed": false
   },
   "outputs": [
    {
     "name": "stdout",
     "output_type": "stream",
     "text": [
      "[Balances]\n",
      "Net liquidation\t\t USD 355375.59\n",
      "Equity with loan\t USD 355462.72\n",
      "Total cash\t\t USD 355268.64\n",
      "\n",
      "[Margin requierements]\n",
      "Initial margin\t\t USD 5119.13\n",
      "Maintenance margin\t USD 5119.13\n",
      "\n",
      "[Available for trading]\n",
      "Funds\t\t\t USD 350343.59\n",
      "Excess Liquidity\t USD 350343.59\n",
      "SMA\t\t\t USD 321051.58\n",
      "Buying power\t\t USD 1283960.84\n",
      "Day trades left\t\t -1\n"
     ]
    }
   ],
   "source": [
    "acc = opt.account()\n",
    "print('[Balances]')\n",
    "print('Net liquidation\\t\\t {}'.format(acc['net_liquidation']))\n",
    "print('Equity with loan\\t {}'.format(acc['equity_with_loan']))\n",
    "print('Total cash\\t\\t {}'.format(acc['cash']))\n",
    "print('\\n[Margin requierements]')\n",
    "print('Initial margin\\t\\t {}'.format(acc['initial_margin']))\n",
    "print('Maintenance margin\\t {}'.format(acc['maintenance_margin']))\n",
    "print('\\n[Available for trading]')\n",
    "print('Funds\\t\\t\\t {}'.format(acc['funds']))\n",
    "print('Excess Liquidity\\t {}'.format(acc['excess_liquidity']))\n",
    "print('SMA\\t\\t\\t {}'.format(acc['SMA']))\n",
    "print('Buying power\\t\\t {}'.format(acc['buying_power']))\n",
    "print('Day trades left\\t\\t {}'.format(acc['max_day_trades']))"
   ]
  },
  {
   "cell_type": "markdown",
   "metadata": {},
   "source": [
    "# Portfolio"
   ]
  },
  {
   "cell_type": "code",
   "execution_count": 4,
   "metadata": {
    "collapsed": false
   },
   "outputs": [
    {
     "name": "stdout",
     "output_type": "stream",
     "text": [
      "Beta weighted delta\t nan\n"
     ]
    }
   ],
   "source": [
    "pf = opt.portfolio()\n",
    "print('Beta weighted delta\\t', pf['BWDelta'])"
   ]
  },
  {
   "cell_type": "markdown",
   "metadata": {},
   "source": [
    "## Positions"
   ]
  },
  {
   "cell_type": "code",
   "execution_count": 5,
   "metadata": {
    "collapsed": false
   },
   "outputs": [
    {
     "name": "stdout",
     "output_type": "stream",
     "text": [
      "[OrderedDict([('code', 'SPY'), ('asset_type', 'OPT'), ('expiration', datetime.date(2018, 9, 21)), ('strike', 283.0), ('right', 'P'), ('ownership', 'SELL'), ('quantity', 1.0), ('average_cost', 95.5124), ('option_price', nan), ('trade_price', 1.08), ('trade_time', datetime.datetime(2018, 8, 27, 18, 59, 21, 793284)), ('underlying_price', nan), ('beta', 1.0), ('delta', nan), ('algorithm', 'foo'), ('strategy', 'Sell naked put'), ('rol', 'no_rol'), ('DTE', 20)])]\n",
      "SPY Sell naked put\n"
     ]
    }
   ],
   "source": [
    "print(opt.positions())\n",
    "for p in opt.positions():\n",
    "    print('{} {}'.format(p['code'],p['strategy']))"
   ]
  },
  {
   "cell_type": "code",
   "execution_count": 6,
   "metadata": {
    "collapsed": false
   },
   "outputs": [],
   "source": [
    "df_pos = pdo(opt.positions())"
   ]
  },
  {
   "cell_type": "code",
   "execution_count": 25,
   "metadata": {
    "collapsed": false
   },
   "outputs": [
    {
     "data": {
      "text/html": [
       "<div>\n",
       "<table border=\"1\" class=\"dataframe\">\n",
       "  <thead>\n",
       "    <tr style=\"text-align: right;\">\n",
       "      <th></th>\n",
       "      <th>code</th>\n",
       "      <th>s_str</th>\n",
       "      <th>quantity</th>\n",
       "      <th>ownership</th>\n",
       "      <th>s_exp</th>\n",
       "      <th>DTE</th>\n",
       "      <th>strike</th>\n",
       "      <th>right</th>\n",
       "    </tr>\n",
       "  </thead>\n",
       "  <tbody>\n",
       "    <tr>\n",
       "      <th>0</th>\n",
       "      <td>SPY</td>\n",
       "      <td>Sell naked put (27/08)</td>\n",
       "      <td>1.0</td>\n",
       "      <td>SELL</td>\n",
       "      <td>Sep 21</td>\n",
       "      <td>20</td>\n",
       "      <td>283.0</td>\n",
       "      <td>P</td>\n",
       "    </tr>\n",
       "  </tbody>\n",
       "</table>\n",
       "</div>"
      ],
      "text/plain": [
       "  code                   s_str  quantity ownership   s_exp  DTE  strike right\n",
       "0  SPY  Sell naked put (27/08)       1.0      SELL  Sep 21   20   283.0     P"
      ]
     },
     "execution_count": 25,
     "metadata": {},
     "output_type": "execute_result"
    },
    {
     "name": "stderr",
     "output_type": "stream",
     "text": [
      "ERROR:ib_insync.client:Peer closed connection\n"
     ]
    }
   ],
   "source": [
    "df_pos['s_exp'] = pd.to_datetime(df_pos['expiration']).dt.strftime('%b %d')\n",
    "df_pos['s_tra'] = df_pos['trade_time'].dt.strftime('%d/%m')\n",
    "df_pos['s_str'] = df_pos['strategy'] + ' (' +df_pos['s_tra'] + ')'\n",
    "df_pos[['code', 's_str', 'quantity', 'ownership', 's_exp', 'DTE', 'strike', 'right']]"
   ]
  },
  {
   "cell_type": "code",
   "execution_count": 8,
   "metadata": {
    "collapsed": false
   },
   "outputs": [],
   "source": [
    "df_pos['expiration'] = pd.to_datetime(df_pos['expiration'])"
   ]
  },
  {
   "cell_type": "code",
   "execution_count": 9,
   "metadata": {
    "collapsed": false
   },
   "outputs": [
    {
     "data": {
      "text/html": [
       "<div>\n",
       "<table border=\"1\" class=\"dataframe\">\n",
       "  <thead>\n",
       "    <tr style=\"text-align: right;\">\n",
       "      <th></th>\n",
       "      <th>code</th>\n",
       "      <th>asset_type</th>\n",
       "      <th>expiration</th>\n",
       "      <th>strike</th>\n",
       "      <th>right</th>\n",
       "      <th>ownership</th>\n",
       "      <th>quantity</th>\n",
       "      <th>average_cost</th>\n",
       "      <th>option_price</th>\n",
       "      <th>trade_price</th>\n",
       "      <th>trade_time</th>\n",
       "      <th>underlying_price</th>\n",
       "      <th>beta</th>\n",
       "      <th>delta</th>\n",
       "      <th>algorithm</th>\n",
       "      <th>strategy</th>\n",
       "      <th>rol</th>\n",
       "      <th>DTE</th>\n",
       "      <th>str_exp</th>\n",
       "    </tr>\n",
       "  </thead>\n",
       "  <tbody>\n",
       "    <tr>\n",
       "      <th>0</th>\n",
       "      <td>SPY</td>\n",
       "      <td>OPT</td>\n",
       "      <td>2018-09-21</td>\n",
       "      <td>283.0</td>\n",
       "      <td>P</td>\n",
       "      <td>SELL</td>\n",
       "      <td>1.0</td>\n",
       "      <td>95.5124</td>\n",
       "      <td>NaN</td>\n",
       "      <td>1.08</td>\n",
       "      <td>2018-08-27 18:59:21.793284</td>\n",
       "      <td>NaN</td>\n",
       "      <td>1.0</td>\n",
       "      <td>NaN</td>\n",
       "      <td>foo</td>\n",
       "      <td>Sell naked put</td>\n",
       "      <td>no_rol</td>\n",
       "      <td>20</td>\n",
       "      <td>Sep 21</td>\n",
       "    </tr>\n",
       "  </tbody>\n",
       "</table>\n",
       "</div>"
      ],
      "text/plain": [
       "  code asset_type expiration  strike right ownership  quantity  average_cost  \\\n",
       "0  SPY        OPT 2018-09-21   283.0     P      SELL       1.0       95.5124   \n",
       "\n",
       "   option_price  trade_price                 trade_time  underlying_price  \\\n",
       "0           NaN         1.08 2018-08-27 18:59:21.793284               NaN   \n",
       "\n",
       "   beta  delta algorithm        strategy     rol  DTE str_exp  \n",
       "0   1.0    NaN       foo  Sell naked put  no_rol   20  Sep 21  "
      ]
     },
     "execution_count": 9,
     "metadata": {},
     "output_type": "execute_result"
    }
   ],
   "source": [
    "df_pos"
   ]
  },
  {
   "cell_type": "code",
   "execution_count": 10,
   "metadata": {
    "collapsed": false
   },
   "outputs": [
    {
     "data": {
      "text/plain": [
       "pandas.core.frame.DataFrame"
      ]
     },
     "execution_count": 10,
     "metadata": {},
     "output_type": "execute_result"
    }
   ],
   "source": [
    "type(df_pos)"
   ]
  },
  {
   "cell_type": "code",
   "execution_count": 11,
   "metadata": {
    "collapsed": false
   },
   "outputs": [
    {
     "data": {
      "text/plain": [
       "0    Sep 21\n",
       "Name: expiration, dtype: object"
      ]
     },
     "execution_count": 11,
     "metadata": {},
     "output_type": "execute_result"
    }
   ],
   "source": [
    "df_pos['expiration'].dt.strftime('%b %d')"
   ]
  },
  {
   "cell_type": "code",
   "execution_count": null,
   "metadata": {
    "collapsed": true
   },
   "outputs": [],
   "source": []
  }
 ],
 "metadata": {
  "kernelspec": {
   "display_name": "Python 3",
   "language": "python",
   "name": "python3"
  },
  "language_info": {
   "codemirror_mode": {
    "name": "ipython",
    "version": 3
   },
   "file_extension": ".py",
   "mimetype": "text/x-python",
   "name": "python",
   "nbconvert_exporter": "python",
   "pygments_lexer": "ipython3",
   "version": "3.6.3"
  }
 },
 "nbformat": 4,
 "nbformat_minor": 2
}
