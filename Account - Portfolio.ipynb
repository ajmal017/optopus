{
 "cells": [
  {
   "cell_type": "code",
   "execution_count": 1,
   "metadata": {
    "collapsed": false
   },
   "outputs": [
    {
     "name": "stdout",
     "output_type": "stream",
     "text": [
      "2018-09-15 19:47:51,349 — optopus — INFO — Completed configuring the logger\n"
     ]
    }
   ],
   "source": [
    "%load_ext autoreload\n",
    "%autoreload 2\n",
    "\n",
    "import datetime\n",
    "import numpy as np\n",
    "import pandas as pd\n",
    "import matplotlib.pyplot as plt\n",
    "from ib_insync import *\n",
    "import os\n",
    "import sys\n",
    "\n",
    "nb_dir = os.path.split(os.getcwd())[0]\n",
    "if nb_dir not in sys.path:\n",
    "    sys.path.append(nb_dir)\n",
    "\n",
    "from optopus.ib_adapter import IBBrokerAdapter\n",
    "from optopus.optopus import Optopus\n",
    "from optopus.utils import to_df\n",
    "\n",
    "\n",
    "%matplotlib inline"
   ]
  },
  {
   "cell_type": "code",
   "execution_count": 2,
   "metadata": {
    "collapsed": false
   },
   "outputs": [
    {
     "name": "stdout",
     "output_type": "stream",
     "text": [
      "2018-09-15 19:48:06,647 — optopus.optopus — INFO — System started\n"
     ]
    },
    {
     "name": "stderr",
     "output_type": "stream",
     "text": [
      "INFO:optopus.optopus:System started\n"
     ]
    }
   ],
   "source": [
    "# port = 7497 TWS paper trading\n",
    "# port = 7496 TWS live trading\n",
    "util.startLoop()\n",
    "opt = Optopus(IBBrokerAdapter(IB(), host='127.0.0.1', port=7497, client=3))\n",
    "opt.start()"
   ]
  },
  {
   "cell_type": "markdown",
   "metadata": {},
   "source": [
    "# Account"
   ]
  },
  {
   "cell_type": "code",
   "execution_count": 3,
   "metadata": {
    "collapsed": false
   },
   "outputs": [
    {
     "name": "stdout",
     "output_type": "stream",
     "text": [
      "[Balances]\n",
      "Net liquidation\t\t 355444.36\n",
      "Equity with loan\t 355444.36\n",
      "Total cash\t\t 355319.98\n",
      "\n",
      "[Margin requierements]\n",
      "Initial margin\t\t 0.00\n",
      "Maintenance margin\t 0.00\n",
      "\n",
      "[Available for trading]\n",
      "Funds\t\t\t 355444.36\n",
      "Excess Liquidity\t 355444.36\n",
      "SMA\t\t\t 326090.98\n",
      "Buying power\t\t 1304363.92\n",
      "Day trades left\t\t None\n"
     ]
    }
   ],
   "source": [
    "acc = opt.account()\n",
    "print('[Balances]')\n",
    "print(f'Net liquidation\\t\\t {acc.net_liquidation}')\n",
    "print(f'Equity with loan\\t {acc.equity_with_loan}')\n",
    "print(f'Total cash\\t\\t {acc.cash}')\n",
    "print('\\n[Margin requierements]')\n",
    "print(f'Initial margin\\t\\t {acc.initial_margin}')\n",
    "print(f'Maintenance margin\\t {acc.maintenance_margin}')\n",
    "print('\\n[Available for trading]')\n",
    "print(f'Funds\\t\\t\\t {acc.funds}')\n",
    "print(f'Excess Liquidity\\t {acc.excess_liquidity}')\n",
    "print(f'SMA\\t\\t\\t {acc.SMA}')\n",
    "print(f'Buying power\\t\\t {acc.buying_power}')\n",
    "print(f'Day trades left\\t\\t {acc.max_day_trades}')"
   ]
  },
  {
   "cell_type": "markdown",
   "metadata": {},
   "source": [
    "# Portfolio"
   ]
  },
  {
   "cell_type": "code",
   "execution_count": 4,
   "metadata": {
    "collapsed": false
   },
   "outputs": [
    {
     "name": "stdout",
     "output_type": "stream",
     "text": [
      "Beta weighted delta\t None\n"
     ]
    }
   ],
   "source": [
    "pf = opt.portfolio()\n",
    "print('Beta weighted delta\\t', pf.bwd)"
   ]
  },
  {
   "cell_type": "markdown",
   "metadata": {},
   "source": [
    "## Positions"
   ]
  },
  {
   "cell_type": "code",
   "execution_count": 5,
   "metadata": {
    "collapsed": false
   },
   "outputs": [
    {
     "name": "stdout",
     "output_type": "stream",
     "text": [
      "{'SPY 15-09-2018 17:53:12': Strategy(('SPY', 'SNP', datetime.datetime(2018, 9, 15, 17, 53, 12, 309321))\n",
      "{'SPY SELL P 287.0 21-09-2018': Leg(('SPY', 'SELL', 'P', 287.0, datetime.date(2018, 9, 21), 100, <Currency.USDollar: 'USD'>, 1))}}\n"
     ]
    }
   ],
   "source": [
    "print(opt.strategies())"
   ]
  },
  {
   "cell_type": "code",
   "execution_count": null,
   "metadata": {
    "collapsed": true
   },
   "outputs": [],
   "source": []
  }
 ],
 "metadata": {
  "kernelspec": {
   "display_name": "Python 3",
   "language": "python",
   "name": "python3"
  },
  "language_info": {
   "codemirror_mode": {
    "name": "ipython",
    "version": 3
   },
   "file_extension": ".py",
   "mimetype": "text/x-python",
   "name": "python",
   "nbconvert_exporter": "python",
   "pygments_lexer": "ipython3",
   "version": "3.6.3"
  }
 },
 "nbformat": 4,
 "nbformat_minor": 2
}
